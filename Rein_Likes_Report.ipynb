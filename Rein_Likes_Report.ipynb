{
 "cells": [
  {
   "cell_type": "markdown",
   "id": "dc8865fc",
   "metadata": {},
   "source": [
    "# Instagram Likes Report\n",
    "**Melyssa Calegari Rein**\n",
    "\n",
    "09/15/2023"
   ]
  },
  {
   "cell_type": "markdown",
   "id": "d9b5c6aa",
   "metadata": {},
   "source": [
    "I have had my Instagram account since 2012, which means I was around 9 years old at the time I created it. As many people, when creating an Instagram account the first people I followed was my family members and friends. However, as time went by, I started following famous people, business accounts, and more. \n",
    "\n",
    "Throughout these last 11 years, I believe that among the top 20 most liked accoounts, I liked more celebrity posts than family and friend's posts. Even though I follow family and friends for a longer time, I do believe I don't like their content as much because they to post less than celebrities. The majority of he famous people I follow post almost every single day, if not more than once a day. In the meantime, I have some friends that post constantly every week or so, but many of them don't post often. So, my hypothesis is that I like celebrities content more than my family/friends' content. "
   ]
  },
  {
   "cell_type": "markdown",
   "id": "cee47425",
   "metadata": {},
   "source": [
    "The data used to this analysis was collected by Instagram and I got access to it by requesting and downloading it as json files from the platform itself. Instagram collects this type of data, from what people post to who people follow and interact with, so they can understand and learn more about the users in order to send them recommendations and ads that better fit their profiles. This way, the users are more easily alienaded to the platform, as what they are receiving is based on what Instagram understood as their likes and interests. "
   ]
  },
  {
   "cell_type": "markdown",
   "id": "be4822e3",
   "metadata": {},
   "source": [
    "As all the information gathered was provided by me posting, using Instagram on my devices, and interacting with other accounts, it is reliable in the sense that I know that everything in this report are facts that come from my actions. However, I am also aware that Instagram only selects the data that they want to collect by their importance as something that can be used by them to understand the user better, and that they choose the ones they want to share with us, users. In addition, there is no actual method to confirm if every single information is a hundred percent correct, as they are data collected by Instagram."
   ]
  },
  {
   "cell_type": "markdown",
   "id": "3a355853",
   "metadata": {},
   "source": [
    "## Initial process\n",
    "After downloading the files from Instagram, I imported pandas to this notebook file and imported json, so that I could load the liked_post.json files - which is the specific file for liked posts and reels inside the data files Instagram provided - and give it a name to call it more easily."
   ]
  },
  {
   "cell_type": "code",
   "execution_count": 7,
   "id": "c44980f6",
   "metadata": {},
   "outputs": [],
   "source": [
    "import pandas as pd\n",
    "import json"
   ]
  },
  {
   "cell_type": "code",
   "execution_count": 8,
   "id": "e019fa7b",
   "metadata": {},
   "outputs": [],
   "source": [
    "with open(\"/Users/mel/Downloads/melyssacalegari_20230904_part_2/likes/liked_posts.json\") as lp:\n",
    "    liked_posts=json.load(lp)"
   ]
  },
  {
   "cell_type": "markdown",
   "id": "cd57ec3f",
   "metadata": {},
   "source": [
    "## Analysis\n",
    "To start the analysis, I transformed the document into a data frame, which is putting the information of the file into a table. Then, added the timestamp from each like to the table, as it does not appear on it at first due to the way Instagram decided to gather and store this data.\n",
    "\n",
    "It is important to note that 'likes_media_likes' is the name of the key present inside the dictionary in the json file for liked posts. In addition, that 'timestamp' is inside of 'string_list_data', which is inside of 'likes_media_likes'."
   ]
  },
  {
   "cell_type": "code",
   "execution_count": 9,
   "id": "de46fc66",
   "metadata": {},
   "outputs": [],
   "source": [
    "liked_acc=pd.DataFrame( liked_posts['likes_media_likes'])"
   ]
  },
  {
   "cell_type": "code",
   "execution_count": 10,
   "id": "fb252f97",
   "metadata": {},
   "outputs": [],
   "source": [
    "time_list = [x['string_list_data'][0]['timestamp'] for x in liked_posts['likes_media_likes']]"
   ]
  },
  {
   "cell_type": "code",
   "execution_count": 11,
   "id": "970f451a",
   "metadata": {},
   "outputs": [],
   "source": [
    "liked_acc['timestamp']=time_list"
   ]
  },
  {
   "cell_type": "markdown",
   "id": "b8ec2584",
   "metadata": {},
   "source": [
    "The line of code above is responsible for adding a collumn called 'timestamp' to the data frame."
   ]
  },
  {
   "cell_type": "code",
   "execution_count": 12,
   "id": "529c3b38",
   "metadata": {},
   "outputs": [
    {
     "data": {
      "text/html": [
       "<div>\n",
       "<style scoped>\n",
       "    .dataframe tbody tr th:only-of-type {\n",
       "        vertical-align: middle;\n",
       "    }\n",
       "\n",
       "    .dataframe tbody tr th {\n",
       "        vertical-align: top;\n",
       "    }\n",
       "\n",
       "    .dataframe thead th {\n",
       "        text-align: right;\n",
       "    }\n",
       "</style>\n",
       "<table border=\"1\" class=\"dataframe\">\n",
       "  <thead>\n",
       "    <tr style=\"text-align: right;\">\n",
       "      <th></th>\n",
       "      <th>title</th>\n",
       "      <th>string_list_data</th>\n",
       "      <th>timestamp</th>\n",
       "    </tr>\n",
       "  </thead>\n",
       "  <tbody>\n",
       "    <tr>\n",
       "      <th>11683</th>\n",
       "      <td>analuciaprzs</td>\n",
       "      <td>[{'href': 'https://www.instagram.com/p/gvK8yKk...</td>\n",
       "      <td>1384552224</td>\n",
       "    </tr>\n",
       "    <tr>\n",
       "      <th>11684</th>\n",
       "      <td>evelisercm</td>\n",
       "      <td>[{'href': 'https://www.instagram.com/p/gvlusqx...</td>\n",
       "      <td>1384552220</td>\n",
       "    </tr>\n",
       "    <tr>\n",
       "      <th>11685</th>\n",
       "      <td>analuciaprzs</td>\n",
       "      <td>[{'href': 'https://www.instagram.com/p/goBPkME...</td>\n",
       "      <td>1384286611</td>\n",
       "    </tr>\n",
       "    <tr>\n",
       "      <th>11686</th>\n",
       "      <td>analuciaprzs</td>\n",
       "      <td>[{'href': 'https://www.instagram.com/p/glcT2Tk...</td>\n",
       "      <td>1384279630</td>\n",
       "    </tr>\n",
       "    <tr>\n",
       "      <th>11687</th>\n",
       "      <td>analuciaprzs</td>\n",
       "      <td>[{'href': 'https://www.instagram.com/p/glc_ijk...</td>\n",
       "      <td>1384279624</td>\n",
       "    </tr>\n",
       "  </tbody>\n",
       "</table>\n",
       "</div>"
      ],
      "text/plain": [
       "              title                                   string_list_data  \\\n",
       "11683  analuciaprzs  [{'href': 'https://www.instagram.com/p/gvK8yKk...   \n",
       "11684    evelisercm  [{'href': 'https://www.instagram.com/p/gvlusqx...   \n",
       "11685  analuciaprzs  [{'href': 'https://www.instagram.com/p/goBPkME...   \n",
       "11686  analuciaprzs  [{'href': 'https://www.instagram.com/p/glcT2Tk...   \n",
       "11687  analuciaprzs  [{'href': 'https://www.instagram.com/p/glc_ijk...   \n",
       "\n",
       "        timestamp  \n",
       "11683  1384552224  \n",
       "11684  1384552220  \n",
       "11685  1384286611  \n",
       "11686  1384279630  \n",
       "11687  1384279624  "
      ]
     },
     "execution_count": 12,
     "metadata": {},
     "output_type": "execute_result"
    }
   ],
   "source": [
    "liked_acc.tail()"
   ]
  },
  {
   "cell_type": "code",
   "execution_count": 13,
   "id": "3b830fb9",
   "metadata": {
    "scrolled": true
   },
   "outputs": [
    {
     "data": {
      "text/html": [
       "<div>\n",
       "<style scoped>\n",
       "    .dataframe tbody tr th:only-of-type {\n",
       "        vertical-align: middle;\n",
       "    }\n",
       "\n",
       "    .dataframe tbody tr th {\n",
       "        vertical-align: top;\n",
       "    }\n",
       "\n",
       "    .dataframe thead th {\n",
       "        text-align: right;\n",
       "    }\n",
       "</style>\n",
       "<table border=\"1\" class=\"dataframe\">\n",
       "  <thead>\n",
       "    <tr style=\"text-align: right;\">\n",
       "      <th></th>\n",
       "      <th>title</th>\n",
       "      <th>string_list_data</th>\n",
       "      <th>timestamp</th>\n",
       "    </tr>\n",
       "  </thead>\n",
       "  <tbody>\n",
       "    <tr>\n",
       "      <th>0</th>\n",
       "      <td>luanajohnson._</td>\n",
       "      <td>[{'href': 'https://www.instagram.com/reel/Cwu-...</td>\n",
       "      <td>1693792008</td>\n",
       "    </tr>\n",
       "    <tr>\n",
       "      <th>1</th>\n",
       "      <td>gnabnahc</td>\n",
       "      <td>[{'href': 'https://www.instagram.com/p/CwvE3GW...</td>\n",
       "      <td>1693791916</td>\n",
       "    </tr>\n",
       "    <tr>\n",
       "      <th>2</th>\n",
       "      <td>ateez_official_</td>\n",
       "      <td>[{'href': 'https://www.instagram.com/p/CwsEFWi...</td>\n",
       "      <td>1693658196</td>\n",
       "    </tr>\n",
       "    <tr>\n",
       "      <th>3</th>\n",
       "      <td>this_is_baekho</td>\n",
       "      <td>[{'href': 'https://www.instagram.com/reel/CwrU...</td>\n",
       "      <td>1693652199</td>\n",
       "    </tr>\n",
       "    <tr>\n",
       "      <th>4</th>\n",
       "      <td>larissamanoela</td>\n",
       "      <td>[{'href': 'https://www.instagram.com/p/Cwp3qdc...</td>\n",
       "      <td>1693623852</td>\n",
       "    </tr>\n",
       "  </tbody>\n",
       "</table>\n",
       "</div>"
      ],
      "text/plain": [
       "             title                                   string_list_data  \\\n",
       "0   luanajohnson._  [{'href': 'https://www.instagram.com/reel/Cwu-...   \n",
       "1         gnabnahc  [{'href': 'https://www.instagram.com/p/CwvE3GW...   \n",
       "2  ateez_official_  [{'href': 'https://www.instagram.com/p/CwsEFWi...   \n",
       "3   this_is_baekho  [{'href': 'https://www.instagram.com/reel/CwrU...   \n",
       "4   larissamanoela  [{'href': 'https://www.instagram.com/p/Cwp3qdc...   \n",
       "\n",
       "    timestamp  \n",
       "0  1693792008  \n",
       "1  1693791916  \n",
       "2  1693658196  \n",
       "3  1693652199  \n",
       "4  1693623852  "
      ]
     },
     "execution_count": 13,
     "metadata": {},
     "output_type": "execute_result"
    }
   ],
   "source": [
    "liked_acc.head()"
   ]
  },
  {
   "cell_type": "markdown",
   "id": "4b0535eb",
   "metadata": {},
   "source": [
    "These summarized tables above show now the position of each like, the account the like was directed to, the link to it along with the emoji used, and the time it was liked (in milliseconds). The first data frame shows the oldest likes, while the second data frame shows the most recent ones.\n",
    "\n",
    "Looking at the data frames above, I noted that I was correct about the first couple of liked users of when I created my account being of acquaintances as \"analuciaprzs\" is my mom's friend and \"evelisercm\" is my aunt. It is also notable that the last couple of likes were directed to celebrities accounts, apart from the last one (\"luanajohnson._\") that is a friend's account."
   ]
  },
  {
   "cell_type": "markdown",
   "id": "45d0c91f",
   "metadata": {},
   "source": [
    "After getting the data frame with each account and its correspondent timestamp, I proceeded to group the likes by account in order to have the exact amount of times I liked each account's posts. I ordered the table from most liked to least liked, as my goal is to discover if I like more celebrities' accounts or family/friends' accounts. Because I want to analyze my top 20 likes, I decided to only look at them, so I shortened the complete grouped table to show only the 20 most liked accounts. \n",
    "\n",
    "I also decided to drop the timestamp column for this next data frame because it was giving the same values as the \"string_list_data\" column. This happens because it is counting how many different timestamps there was per account, which is basically the same amount of different likes per account. "
   ]
  },
  {
   "cell_type": "code",
   "execution_count": 14,
   "id": "8617e58b",
   "metadata": {},
   "outputs": [
    {
     "data": {
      "text/html": [
       "<div>\n",
       "<style scoped>\n",
       "    .dataframe tbody tr th:only-of-type {\n",
       "        vertical-align: middle;\n",
       "    }\n",
       "\n",
       "    .dataframe tbody tr th {\n",
       "        vertical-align: top;\n",
       "    }\n",
       "\n",
       "    .dataframe thead th {\n",
       "        text-align: right;\n",
       "    }\n",
       "</style>\n",
       "<table border=\"1\" class=\"dataframe\">\n",
       "  <thead>\n",
       "    <tr style=\"text-align: right;\">\n",
       "      <th></th>\n",
       "      <th>string_list_data</th>\n",
       "    </tr>\n",
       "    <tr>\n",
       "      <th>title</th>\n",
       "      <th></th>\n",
       "    </tr>\n",
       "  </thead>\n",
       "  <tbody>\n",
       "    <tr>\n",
       "      <th>larissamanoela</th>\n",
       "      <td>534</td>\n",
       "    </tr>\n",
       "    <tr>\n",
       "      <th>realstraykids</th>\n",
       "      <td>463</td>\n",
       "    </tr>\n",
       "    <tr>\n",
       "      <th>ateez_official_</th>\n",
       "      <td>253</td>\n",
       "    </tr>\n",
       "    <tr>\n",
       "      <th>1.d.memes</th>\n",
       "      <td>245</td>\n",
       "    </tr>\n",
       "    <tr>\n",
       "      <th>shadowhunterstv</th>\n",
       "      <td>239</td>\n",
       "    </tr>\n",
       "    <tr>\n",
       "      <th>mileycyrus</th>\n",
       "      <td>227</td>\n",
       "    </tr>\n",
       "    <tr>\n",
       "      <th>official_theboyz</th>\n",
       "      <td>224</td>\n",
       "    </tr>\n",
       "    <tr>\n",
       "      <th>vitoriacalegari</th>\n",
       "      <td>205</td>\n",
       "    </tr>\n",
       "    <tr>\n",
       "      <th>imersaemlivros</th>\n",
       "      <td>201</td>\n",
       "    </tr>\n",
       "    <tr>\n",
       "      <th>mefazrir</th>\n",
       "      <td>161</td>\n",
       "    </tr>\n",
       "    <tr>\n",
       "      <th>kat.mcnamara</th>\n",
       "      <td>135</td>\n",
       "    </tr>\n",
       "    <tr>\n",
       "      <th>kayceerice</th>\n",
       "      <td>119</td>\n",
       "    </tr>\n",
       "    <tr>\n",
       "      <th>smart.ib.memes</th>\n",
       "      <td>96</td>\n",
       "    </tr>\n",
       "    <tr>\n",
       "      <th>vecapoccia</th>\n",
       "      <td>87</td>\n",
       "    </tr>\n",
       "    <tr>\n",
       "      <th>enhypen</th>\n",
       "      <td>81</td>\n",
       "    </tr>\n",
       "    <tr>\n",
       "      <th>miraculouspowersbr</th>\n",
       "      <td>80</td>\n",
       "    </tr>\n",
       "    <tr>\n",
       "      <th>nowunited</th>\n",
       "      <td>78</td>\n",
       "    </tr>\n",
       "    <tr>\n",
       "      <th>topstretching.app</th>\n",
       "      <td>75</td>\n",
       "    </tr>\n",
       "    <tr>\n",
       "      <th>tudobeen</th>\n",
       "      <td>74</td>\n",
       "    </tr>\n",
       "    <tr>\n",
       "      <th>anygabriellyofficial</th>\n",
       "      <td>68</td>\n",
       "    </tr>\n",
       "  </tbody>\n",
       "</table>\n",
       "</div>"
      ],
      "text/plain": [
       "                      string_list_data\n",
       "title                                 \n",
       "larissamanoela                     534\n",
       "realstraykids                      463\n",
       "ateez_official_                    253\n",
       "1.d.memes                          245\n",
       "shadowhunterstv                    239\n",
       "mileycyrus                         227\n",
       "official_theboyz                   224\n",
       "vitoriacalegari                    205\n",
       "imersaemlivros                     201\n",
       "mefazrir                           161\n",
       "kat.mcnamara                       135\n",
       "kayceerice                         119\n",
       "smart.ib.memes                      96\n",
       "vecapoccia                          87\n",
       "enhypen                             81\n",
       "miraculouspowersbr                  80\n",
       "nowunited                           78\n",
       "topstretching.app                   75\n",
       "tudobeen                            74\n",
       "anygabriellyofficial                68"
      ]
     },
     "execution_count": 14,
     "metadata": {},
     "output_type": "execute_result"
    }
   ],
   "source": [
    "most_liked = liked_acc.groupby('title').count().drop(columns='timestamp').sort_values('string_list_data',ascending=False).head(20)\n",
    "most_liked"
   ]
  },
  {
   "cell_type": "markdown",
   "id": "72a7a4b8",
   "metadata": {},
   "source": [
    "### Accounts"
   ]
  },
  {
   "cell_type": "markdown",
   "id": "1c94cde5",
   "metadata": {},
   "source": [
    "From this list, the following are my family members and friends's accounts:\n",
    "- vitoriacalegari: she is my aunt;\n",
    "- vecapoccia: she is a family friend, and is the daugther of my sister's godmother.\n",
    "\n",
    "The account \"imersaemlivros\" is accually my second account dedicated to books, so I will not be considering it as neither family or celebrity. Other accounts will not count as neither category as well. They are \"1.d.memes,\" \"shadowhunterstv,\" \"mefazrir,\" \"smart.ib.memes,\" \"miraculouspowersbr,\" \"topstretching.app.\" These users are meme accounts or accounts dedicated to TV shows, which I am not considering celebrity account -- as they are not a famous person or group.\n",
    "\n",
    "The celebirites accounts on the table above are:"
   ]
  },
  {
   "cell_type": "markdown",
   "id": "f566227a",
   "metadata": {},
   "source": [
    "#### larissamanoela\n",
    "![](https://www.diariodepernambuco.com.br/static/app/noticia_127983242361/2023/08/14/936372/20230814152921448524i.webp)\n",
    "Larissa Manoela is a Brazilian actress and singer that has a long career, as she has been working since she was a child. She might be my top liked because I follow her for a long time to know more about her projects.\n",
    "\n",
    "#### realstraykids\n",
    "![](https://assets.teenvogue.com/photos/612f8bf4e8c260b3d41cc82c/1:1/w_2000,h_2000,c_limit/Stray%20Kids%20(1).jpg)\n",
    "Stray Kids is a k-pop group and although I only started following them in the past two years, I am not surprised to see them on top 2 since I normally go after their posts a lot. \n",
    "\n",
    "####  ateez_official_\n",
    "![](https://www.envimedia.co/wp-content/uploads/2022/07/ateez-1.jpeg)\n",
    "Ateez is also a k-pop group that I have followed for the past two years but I don't keep a look out for their new posts as much as I do with Stray Kids; I normally like their content when they appear on my feed, which seems to be quite a lot since in the past 2 years I liked 253 of the their posts. However, this group, differently from the next ones, I do keep an eye for new projects, so sometimes I look them up on Instagram to know more of what they have been doing.\n",
    "\n",
    "####  official_theboyz\n",
    "![](https://cdn.i-scmp.com/sites/default/files/d8/images/methode/2020/10/20/73ebbbb2-0a09-11eb-afc8-92e0da0ef1c3_image_hires_113807.jpeg)\n",
    "The Boyz is a k-pop group that I follow for nearly 2 years as well, but I only interact with their posts if they appear on my feed when I am scrolling through it. \n",
    "\n",
    "####  kat.mcnamara \n",
    "![](https://mn2s-content.s3.eu-west-2.amazonaws.com/wp-content/uploads/2019/02/19171932/kat-mcnamara-mn2s-2-.png)\n",
    "Kat McNamara is an actress that had the main role on a TV adaptation of my favorite book series of 2015. Because of this, I ended up following her and interacting a lot with her content to know more about the cast and the TV show. I am surprised that my interactions with her posts from 2016 to 2019 were so much that put her at 11th place of most liked accounts in a report of 11 years.\n",
    "\n",
    "####  kayceerice\n",
    "![](https://pbs.twimg.com/media/EUEGJDOWoAQXi10.jpg)\n",
    "Kaycee Rice is a dancer that I have been following for years now, but I interacted more with her posts years ago, although I still keep an eye on her projects as I am a huge fan of her work and talent.\n",
    "\n",
    "####  enhypen\n",
    "![](https://assets.teenvogue.com/photos/5fd6e2f4e6ff71e902f97c4e/16:9/w_2560%2Cc_limit/ENHYPEN_DUSK_Photo%2520Courtesy%2520BELIFT%2520LAB_1.jpg)\n",
    "Enhypen is another k-pop group that I follow for almost 2 years now and I interact more with their content if it appears on my feed.\n",
    "\n",
    "####  nowunited\n",
    "![](https://tempersonalizados.com.br/wp-content/uploads/2022/04/Now-United_-conheca-as-tendencias-trazidas-pelo-grupo.jpg)\n",
    "Now United is a group of dancers and singers that I used to engage with their content more around 2019, but I do like their content from time to time if it appears on my feed. But I am also surprised that I liked their content enough to appear on my top 20.\n",
    "\n",
    "####  anygabriellyofficial\n",
    "![](https://s2.glbimg.com/yP7OPJrb37Fkso6NPyoaFknUKzM=/top/e.glbimg.com/og/ed/f/original/2020/09/01/any-gabrielly-8.jpg)\n",
    "Any Gabrielly is a Brazilian singer and dancer that used to be on Now United but now she is a soloist. Just as Now United, I used to interact more with her content around 2019-2020, but I do engage with it a little bit more nowadays compared to Now United."
   ]
  },
  {
   "cell_type": "markdown",
   "id": "d9b29976",
   "metadata": {},
   "source": [
    "So, if we add the amount of times I liked my family's posts and a celebrity's posts from this list, we have the following results:"
   ]
  },
  {
   "cell_type": "code",
   "execution_count": 15,
   "id": "2156b047",
   "metadata": {},
   "outputs": [
    {
     "data": {
      "text/plain": [
       "291"
      ]
     },
     "execution_count": 15,
     "metadata": {},
     "output_type": "execute_result"
    }
   ],
   "source": [
    "family = 205 +  86\n",
    "family"
   ]
  },
  {
   "cell_type": "code",
   "execution_count": 16,
   "id": "740a4559",
   "metadata": {},
   "outputs": [
    {
     "data": {
      "text/plain": [
       "2182"
      ]
     },
     "execution_count": 16,
     "metadata": {},
     "output_type": "execute_result"
    }
   ],
   "source": [
    "celebrities = 534 + 463 + 253 + 227 +224 + 135 +119 + 81 + 78 + 68\n",
    "celebrities"
   ]
  },
  {
   "cell_type": "markdown",
   "id": "28316f4a",
   "metadata": {},
   "source": [
    "The following equation if to discover the actual ratio between each category:"
   ]
  },
  {
   "cell_type": "code",
   "execution_count": 17,
   "id": "00bcd08b",
   "metadata": {},
   "outputs": [
    {
     "data": {
      "text/plain": [
       "7.498281786941581"
      ]
     },
     "execution_count": 17,
     "metadata": {},
     "output_type": "execute_result"
    }
   ],
   "source": [
    "celebrities / family"
   ]
  },
  {
   "cell_type": "markdown",
   "id": "41e9a164",
   "metadata": {},
   "source": [
    "# Conclusion\n",
    "My hypothesis of me liking more celebrities than family and friends' content was correct, as the ratio between them is nearly 7.5:1.\n",
    "\n",
    "The limitations of using only the liked_posts for this analysis is that it only focuses on reels and posts, not on stories. Hence, for a more specific result on which type of accounts and specific users I normally like and engage more would be interesting to analize the story_likes.json file as well, which has data of every story I liked. Not only the users on top 20 could change completely with this added information, but the ratio between family/friends and celebrities posts could change by a lot. Plus, as I have an additional account in which I follow authors, that in my perspective are considered celebrities if they are famous ones, it would also be of value to this analysis if I got the data for this other account to use it in the report. \n",
    "\n",
    "It is also necessary to take into account that there were years that I barely used this Instagram account and that some of them I used more my other account, which can have an influence on the results. In addition, reels was only introduced in the past few years, which means that is a difference between past and present state of the platform important to have in mind.\n",
    "\n",
    "Another way of testing my hypothesis would be creating a list with the people I consider my family and friends and another list with people who are celebrities, generating a code that could calculate the result so I do not need to make the calculation by myself.\n",
    "\n",
    "Thus, the next steps for further investigating this hypothesis would be getting data on my additional account along with using story_likes.json to have a broader idea of my most liked accounts. Plus, creating a code that could detect each user and fit them in their respective category, so the calculation could be done with code as well. With such code instructions, it would be even possible to expand the hypothesis to not only inside my top 20 most liked accounts, but to every account I liked. And the hypothesis could be even narrowed down to the ratio I believe it will have between them including this other data."
   ]
  }
 ],
 "metadata": {
  "kernelspec": {
   "display_name": "Python 3 (ipykernel)",
   "language": "python",
   "name": "python3"
  },
  "language_info": {
   "codemirror_mode": {
    "name": "ipython",
    "version": 3
   },
   "file_extension": ".py",
   "mimetype": "text/x-python",
   "name": "python",
   "nbconvert_exporter": "python",
   "pygments_lexer": "ipython3",
   "version": "3.11.4"
  }
 },
 "nbformat": 4,
 "nbformat_minor": 5
}
