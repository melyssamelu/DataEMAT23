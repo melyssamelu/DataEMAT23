{
 "cells": [
  {
   "cell_type": "markdown",
   "id": "3ba676dd",
   "metadata": {},
   "source": [
    "# Analysis Report: Favorite Albums\n",
    "**Melyssa Calegari Rein**\n",
    "\n",
    "**11/21**"
   ]
  },
  {
   "cell_type": "markdown",
   "id": "4d0f68c2",
   "metadata": {},
   "source": [
    "## Introduction "
   ]
  },
  {
   "cell_type": "markdown",
   "id": "c8da4d31",
   "metadata": {},
   "source": [
    "My musical taste is very diverse, I listen to many genres. Proving that, my two favorite albums are Can't be Tamed and NoEasy, respectively, a pop album and an album that contains many different genres (for example, EDM and hip hop). My hypothesis is that when comparing the energy and the tempo from NoEasy and Can't be Tamed, there will be no relation between them. These two audio features were chosen because these albums have a different essence to them, apart from the music style and genre not being the same. Miley Cyrus's album has themes such as romance, party, hurt. Meanwhile, Stray Kids's album talks a lot about haters, fun, angst. Also, when listening to them, it is clear that NoEasy songs are, in general, more energetic and agressive than Can't be Tamed songs.   \n",
    "\n",
    "All the data for this report comes from Spotify API, which is a Spotify interface that allows people to request information from Spotify (from artists to playlists data) as long as they get a client ID and password to get a session key. The endpoints used are the album endpoint, to get information on an album including its tracks, and the audio features, to get information on an album's songs. This is because when requesting information on an album, only the names of the tracks are important for this report out of all of the other information (for example, available markets and duration of the track) and their ID (which will be given to the audio feature endpoint). Hence, to get more information on the tracks and better understand my tastes, using the audio features endpoints will provide data of the song's characteristics, from danceability to speechness. "
   ]
  },
  {
   "cell_type": "markdown",
   "id": "26b5bcfd",
   "metadata": {},
   "source": [
    "#### NoEasy by Stray Kids\n",
    "![](https://upload.wikimedia.org/wikipedia/en/thumb/5/59/Stray_Kids_-_Noeasy_%28Digital%29.jpeg/220px-Stray_Kids_-_Noeasy_%28Digital%29.jpeg)"
   ]
  },
  {
   "cell_type": "markdown",
   "id": "ae70b7fc",
   "metadata": {},
   "source": [
    "As hinted by the album name and cover, NoEasy (that when spoken, resembles the word Noisy), Stray Kids received a lot of criticism through out their career due to the music they produce that many consider noisy. They have songs in many different genres, from rock to EDM to hip hop. They often mix different sounds and beats into their songs, which might overwhelm some people as they say it is noisy. \n",
    "\n",
    "Stray Kids's NoEasy is one of the albums I listened to the most on Spotify, which is a surprise because it is a 2021 album and I have Spotify since 2015, so this shows how this album surprised me and carved its mark on me. This album introduced me to Stray Kids and after that, I started follwing their releases. I love how in NoEasy Stray Kids has no fear in putting their personality into the songs, making their songs \"noisy\" and exploring different genres and themes. I appreciate their creativity with the more energetic songs, like *Thunderous* and *Cheese*, and the emotion in the less energetic ones, such as *Sorry, I love you*. "
   ]
  },
  {
   "cell_type": "markdown",
   "id": "81c9f247",
   "metadata": {},
   "source": [
    "#### Can't be Tamed by Miley Cyrus\n",
    "![](https://upload.wikimedia.org/wikipedia/en/4/41/Miley_Cyrus_-_Can%27t_Be_Tamed.png) "
   ]
  },
  {
   "cell_type": "markdown",
   "id": "a01d965e",
   "metadata": {},
   "source": [
    "I have been listening to Miley Cyrus's songs since I was younger, around 6 years old. So, I have followed her entire discography, but Can't Be Tamed is one of my favorites albums of hers. I don't skip any of the songs in this album, I love them all. I dance along to the more energetic songs and sing along to the less energetic ones. This is not only the album of hers I listen to the most, but also the one I have the most memories of. For instance, I used to listen to this album almost everyday when going to school with  my mother and I used to sing the album's songs with my aunt every now and then.     "
   ]
  },
  {
   "cell_type": "markdown",
   "id": "e007eae5",
   "metadata": {},
   "source": [
    "## Preparation "
   ]
  },
  {
   "cell_type": "markdown",
   "id": "dfb1faf0",
   "metadata": {},
   "source": [
    "First, I imported all the packages needed to make the requests to Spotify API, to put the data into tables and graphs, and to analyse the statistics of the result."
   ]
  },
  {
   "cell_type": "code",
   "execution_count": 1,
   "id": "37b5db38",
   "metadata": {},
   "outputs": [],
   "source": [
    "import requests\n",
    "import pandas as pd\n",
    "import base64\n",
    "import json\n",
    "import numpy as np\n",
    "from scipy import stats\n",
    "from matplotlib import pyplot as plt"
   ]
  },
  {
   "cell_type": "markdown",
   "id": "46c4243f",
   "metadata": {},
   "source": [
    "Then I got my Client ID and Client password, that I had previously put in a csv file, and called it here. I did this because this information cannot be shared, so when calling it like this, it will not appear in the notebook."
   ]
  },
  {
   "cell_type": "code",
   "execution_count": 2,
   "id": "c1032cb9",
   "metadata": {},
   "outputs": [],
   "source": [
    "Client_ID = pd.read_csv('Spotify_keys.txt')['Client_ID'].iloc[0]"
   ]
  },
  {
   "cell_type": "code",
   "execution_count": 3,
   "id": "4ace9528",
   "metadata": {},
   "outputs": [],
   "source": [
    "Client_Secret = pd.read_csv('Spotify_keys.txt')['Client_Secret'].iloc[0]"
   ]
  },
  {
   "cell_type": "markdown",
   "id": "1ea84bf9",
   "metadata": {},
   "source": [
    "With that information, I put them together and encoded them using base64 in order to give it to Spotify API and request a session key (which will give me access to complete requests on the albums information.) To make sure the process of encoding and transfering information to the API was successful, I used \".status_code\" and got back \"200\" which means I could proceed with my requests. "
   ]
  },
  {
   "cell_type": "code",
   "execution_count": 4,
   "id": "6f7ee07c",
   "metadata": {},
   "outputs": [],
   "source": [
    "client_cred = base64.b64encode(str(Client_ID + \":\" + Client_Secret).encode('ascii'))"
   ]
  },
  {
   "cell_type": "code",
   "execution_count": 5,
   "id": "98bd4c58",
   "metadata": {},
   "outputs": [],
   "source": [
    "headers = {\"Authorization\": \"Basic {}\".format(client_cred.decode('ascii'))}"
   ]
  },
  {
   "cell_type": "code",
   "execution_count": 6,
   "id": "65e24739",
   "metadata": {},
   "outputs": [],
   "source": [
    "payload = {'grant_type' : 'client_credentials'}\n",
    "url = 'https://accounts.spotify.com/api/token'"
   ]
  },
  {
   "cell_type": "code",
   "execution_count": 7,
   "id": "5074d122",
   "metadata": {},
   "outputs": [],
   "source": [
    "session_key_response = requests.post(url = url,data = payload, headers = headers)"
   ]
  },
  {
   "cell_type": "code",
   "execution_count": 8,
   "id": "84a44016",
   "metadata": {},
   "outputs": [
    {
     "data": {
      "text/plain": [
       "200"
      ]
     },
     "execution_count": 8,
     "metadata": {},
     "output_type": "execute_result"
    }
   ],
   "source": [
    "session_key_response.status_code"
   ]
  },
  {
   "cell_type": "code",
   "execution_count": 9,
   "id": "36f16e3f",
   "metadata": {},
   "outputs": [],
   "source": [
    "session_headers = {\"Authorization\": \"Bearer {}\".format(session_key_response.json()['access_token'])}"
   ]
  },
  {
   "cell_type": "markdown",
   "id": "26e9c6a0",
   "metadata": {},
   "source": [
    "### Requesting information on the albums"
   ]
  },
  {
   "cell_type": "markdown",
   "id": "37c560f7",
   "metadata": {},
   "source": [
    "#### NoEasy by Stray Kids"
   ]
  },
  {
   "cell_type": "markdown",
   "id": "f548e095",
   "metadata": {},
   "source": [
    "To get information on the NoEasy album, I had to first get the album ID from Spotify, so that I could put it on the url form that the Album endpoint requires. "
   ]
  },
  {
   "cell_type": "code",
   "execution_count": 10,
   "id": "57fac115",
   "metadata": {},
   "outputs": [],
   "source": [
    "noeasy_id = '558tpdCejjVQNFAumRAeQj'"
   ]
  },
  {
   "cell_type": "code",
   "execution_count": 11,
   "id": "f0993707",
   "metadata": {},
   "outputs": [],
   "source": [
    "album1_url = 'https://api.spotify.com/v1/albums/{}/tracks'.format(noeasy_id)"
   ]
  },
  {
   "cell_type": "markdown",
   "id": "64c8742e",
   "metadata": {},
   "source": [
    "With that, I got a response and transformed it into json in order to be able to read it in the Jupyter Notebook."
   ]
  },
  {
   "cell_type": "code",
   "execution_count": 12,
   "id": "8b36bef0",
   "metadata": {},
   "outputs": [],
   "source": [
    "response = requests.get(url = album1_url, headers = session_headers)"
   ]
  },
  {
   "cell_type": "code",
   "execution_count": 13,
   "id": "6820eb67",
   "metadata": {},
   "outputs": [],
   "source": [
    "data_noeasy = response.json() "
   ]
  },
  {
   "cell_type": "markdown",
   "id": "dd9cd9e0",
   "metadata": {},
   "source": [
    "I asked for the keys that the file has, to understand better how to proceed in making a table with the information in it."
   ]
  },
  {
   "cell_type": "code",
   "execution_count": 14,
   "id": "a183ee02",
   "metadata": {},
   "outputs": [
    {
     "data": {
      "text/plain": [
       "dict_keys(['href', 'items', 'limit', 'next', 'offset', 'previous', 'total'])"
      ]
     },
     "execution_count": 14,
     "metadata": {},
     "output_type": "execute_result"
    }
   ],
   "source": [
    "data_noeasy.keys()"
   ]
  },
  {
   "cell_type": "markdown",
   "id": "11085b0a",
   "metadata": {},
   "source": [
    "So, I created a table with all of the information under \"Items\" to further understand the information. To show only the first 5 songs in the table so it is not overwhelming, I used the \"head\" function."
   ]
  },
  {
   "cell_type": "code",
   "execution_count": 15,
   "id": "0902a382",
   "metadata": {},
   "outputs": [
    {
     "data": {
      "text/html": [
       "<div>\n",
       "<style scoped>\n",
       "    .dataframe tbody tr th:only-of-type {\n",
       "        vertical-align: middle;\n",
       "    }\n",
       "\n",
       "    .dataframe tbody tr th {\n",
       "        vertical-align: top;\n",
       "    }\n",
       "\n",
       "    .dataframe thead th {\n",
       "        text-align: right;\n",
       "    }\n",
       "</style>\n",
       "<table border=\"1\" class=\"dataframe\">\n",
       "  <thead>\n",
       "    <tr style=\"text-align: right;\">\n",
       "      <th></th>\n",
       "      <th>artists</th>\n",
       "      <th>available_markets</th>\n",
       "      <th>disc_number</th>\n",
       "      <th>duration_ms</th>\n",
       "      <th>explicit</th>\n",
       "      <th>external_urls</th>\n",
       "      <th>href</th>\n",
       "      <th>id</th>\n",
       "      <th>is_local</th>\n",
       "      <th>name</th>\n",
       "      <th>preview_url</th>\n",
       "      <th>track_number</th>\n",
       "      <th>type</th>\n",
       "      <th>uri</th>\n",
       "    </tr>\n",
       "  </thead>\n",
       "  <tbody>\n",
       "    <tr>\n",
       "      <th>0</th>\n",
       "      <td>[{'external_urls': {'spotify': 'https://open.s...</td>\n",
       "      <td>[AR, AU, AT, BE, BO, BR, BG, CA, CL, CO, CR, C...</td>\n",
       "      <td>1</td>\n",
       "      <td>182080</td>\n",
       "      <td>False</td>\n",
       "      <td>{'spotify': 'https://open.spotify.com/track/7q...</td>\n",
       "      <td>https://api.spotify.com/v1/tracks/7qpSatdWQcRH...</td>\n",
       "      <td>7qpSatdWQcRHA3hpedL2u4</td>\n",
       "      <td>False</td>\n",
       "      <td>CHEESE</td>\n",
       "      <td>https://p.scdn.co/mp3-preview/1b71cfb8503ec564...</td>\n",
       "      <td>1</td>\n",
       "      <td>track</td>\n",
       "      <td>spotify:track:7qpSatdWQcRHA3hpedL2u4</td>\n",
       "    </tr>\n",
       "    <tr>\n",
       "      <th>1</th>\n",
       "      <td>[{'external_urls': {'spotify': 'https://open.s...</td>\n",
       "      <td>[AR, AU, AT, BE, BO, BR, BG, CA, CL, CO, CR, C...</td>\n",
       "      <td>1</td>\n",
       "      <td>183266</td>\n",
       "      <td>False</td>\n",
       "      <td>{'spotify': 'https://open.spotify.com/track/0n...</td>\n",
       "      <td>https://api.spotify.com/v1/tracks/0nwTMzpatarz...</td>\n",
       "      <td>0nwTMzpatarzvLvtwwzdCt</td>\n",
       "      <td>False</td>\n",
       "      <td>Thunderous</td>\n",
       "      <td>https://p.scdn.co/mp3-preview/b514180fb13d39aa...</td>\n",
       "      <td>2</td>\n",
       "      <td>track</td>\n",
       "      <td>spotify:track:0nwTMzpatarzvLvtwwzdCt</td>\n",
       "    </tr>\n",
       "    <tr>\n",
       "      <th>2</th>\n",
       "      <td>[{'external_urls': {'spotify': 'https://open.s...</td>\n",
       "      <td>[AR, AU, AT, BE, BO, BR, BG, CA, CL, CO, CR, C...</td>\n",
       "      <td>1</td>\n",
       "      <td>198720</td>\n",
       "      <td>False</td>\n",
       "      <td>{'spotify': 'https://open.spotify.com/track/6I...</td>\n",
       "      <td>https://api.spotify.com/v1/tracks/6Ib6RkvLBMD8...</td>\n",
       "      <td>6Ib6RkvLBMD85bov85apSL</td>\n",
       "      <td>False</td>\n",
       "      <td>DOMINO</td>\n",
       "      <td>https://p.scdn.co/mp3-preview/a062539bb8fd4502...</td>\n",
       "      <td>3</td>\n",
       "      <td>track</td>\n",
       "      <td>spotify:track:6Ib6RkvLBMD85bov85apSL</td>\n",
       "    </tr>\n",
       "    <tr>\n",
       "      <th>3</th>\n",
       "      <td>[{'external_urls': {'spotify': 'https://open.s...</td>\n",
       "      <td>[AR, AU, AT, BE, BO, BR, BG, CA, CL, CO, CR, C...</td>\n",
       "      <td>1</td>\n",
       "      <td>190146</td>\n",
       "      <td>False</td>\n",
       "      <td>{'spotify': 'https://open.spotify.com/track/23...</td>\n",
       "      <td>https://api.spotify.com/v1/tracks/238HdxvQkmYe...</td>\n",
       "      <td>238HdxvQkmYeSyo6qkPQoU</td>\n",
       "      <td>False</td>\n",
       "      <td>SSICK</td>\n",
       "      <td>https://p.scdn.co/mp3-preview/ca6a709d8ae0c801...</td>\n",
       "      <td>4</td>\n",
       "      <td>track</td>\n",
       "      <td>spotify:track:238HdxvQkmYeSyo6qkPQoU</td>\n",
       "    </tr>\n",
       "    <tr>\n",
       "      <th>4</th>\n",
       "      <td>[{'external_urls': {'spotify': 'https://open.s...</td>\n",
       "      <td>[AR, AU, AT, BE, BO, BR, BG, CA, CL, CO, CR, C...</td>\n",
       "      <td>1</td>\n",
       "      <td>201746</td>\n",
       "      <td>False</td>\n",
       "      <td>{'spotify': 'https://open.spotify.com/track/5F...</td>\n",
       "      <td>https://api.spotify.com/v1/tracks/5FM1V3qjHroq...</td>\n",
       "      <td>5FM1V3qjHroqsXRBbL57rW</td>\n",
       "      <td>False</td>\n",
       "      <td>The View</td>\n",
       "      <td>https://p.scdn.co/mp3-preview/808b95684ee512f2...</td>\n",
       "      <td>5</td>\n",
       "      <td>track</td>\n",
       "      <td>spotify:track:5FM1V3qjHroqsXRBbL57rW</td>\n",
       "    </tr>\n",
       "  </tbody>\n",
       "</table>\n",
       "</div>"
      ],
      "text/plain": [
       "                                             artists  \\\n",
       "0  [{'external_urls': {'spotify': 'https://open.s...   \n",
       "1  [{'external_urls': {'spotify': 'https://open.s...   \n",
       "2  [{'external_urls': {'spotify': 'https://open.s...   \n",
       "3  [{'external_urls': {'spotify': 'https://open.s...   \n",
       "4  [{'external_urls': {'spotify': 'https://open.s...   \n",
       "\n",
       "                                   available_markets  disc_number  \\\n",
       "0  [AR, AU, AT, BE, BO, BR, BG, CA, CL, CO, CR, C...            1   \n",
       "1  [AR, AU, AT, BE, BO, BR, BG, CA, CL, CO, CR, C...            1   \n",
       "2  [AR, AU, AT, BE, BO, BR, BG, CA, CL, CO, CR, C...            1   \n",
       "3  [AR, AU, AT, BE, BO, BR, BG, CA, CL, CO, CR, C...            1   \n",
       "4  [AR, AU, AT, BE, BO, BR, BG, CA, CL, CO, CR, C...            1   \n",
       "\n",
       "   duration_ms  explicit                                      external_urls  \\\n",
       "0       182080     False  {'spotify': 'https://open.spotify.com/track/7q...   \n",
       "1       183266     False  {'spotify': 'https://open.spotify.com/track/0n...   \n",
       "2       198720     False  {'spotify': 'https://open.spotify.com/track/6I...   \n",
       "3       190146     False  {'spotify': 'https://open.spotify.com/track/23...   \n",
       "4       201746     False  {'spotify': 'https://open.spotify.com/track/5F...   \n",
       "\n",
       "                                                href                      id  \\\n",
       "0  https://api.spotify.com/v1/tracks/7qpSatdWQcRH...  7qpSatdWQcRHA3hpedL2u4   \n",
       "1  https://api.spotify.com/v1/tracks/0nwTMzpatarz...  0nwTMzpatarzvLvtwwzdCt   \n",
       "2  https://api.spotify.com/v1/tracks/6Ib6RkvLBMD8...  6Ib6RkvLBMD85bov85apSL   \n",
       "3  https://api.spotify.com/v1/tracks/238HdxvQkmYe...  238HdxvQkmYeSyo6qkPQoU   \n",
       "4  https://api.spotify.com/v1/tracks/5FM1V3qjHroq...  5FM1V3qjHroqsXRBbL57rW   \n",
       "\n",
       "   is_local        name                                        preview_url  \\\n",
       "0     False      CHEESE  https://p.scdn.co/mp3-preview/1b71cfb8503ec564...   \n",
       "1     False  Thunderous  https://p.scdn.co/mp3-preview/b514180fb13d39aa...   \n",
       "2     False      DOMINO  https://p.scdn.co/mp3-preview/a062539bb8fd4502...   \n",
       "3     False       SSICK  https://p.scdn.co/mp3-preview/ca6a709d8ae0c801...   \n",
       "4     False    The View  https://p.scdn.co/mp3-preview/808b95684ee512f2...   \n",
       "\n",
       "   track_number   type                                   uri  \n",
       "0             1  track  spotify:track:7qpSatdWQcRHA3hpedL2u4  \n",
       "1             2  track  spotify:track:0nwTMzpatarzvLvtwwzdCt  \n",
       "2             3  track  spotify:track:6Ib6RkvLBMD85bov85apSL  \n",
       "3             4  track  spotify:track:238HdxvQkmYeSyo6qkPQoU  \n",
       "4             5  track  spotify:track:5FM1V3qjHroqsXRBbL57rW  "
      ]
     },
     "execution_count": 15,
     "metadata": {},
     "output_type": "execute_result"
    }
   ],
   "source": [
    "noeasy_df = pd.DataFrame(data_noeasy['items'])\n",
    "noeasy_df.head()"
   ]
  },
  {
   "cell_type": "markdown",
   "id": "853c8bb7",
   "metadata": {},
   "source": [
    "After that, I was able to select only the crucial information needed and create a summarized table for the analyzis, which are the name and the ID of the songs. "
   ]
  },
  {
   "cell_type": "code",
   "execution_count": 16,
   "id": "eb9bf656",
   "metadata": {},
   "outputs": [
    {
     "data": {
      "text/html": [
       "<div>\n",
       "<style scoped>\n",
       "    .dataframe tbody tr th:only-of-type {\n",
       "        vertical-align: middle;\n",
       "    }\n",
       "\n",
       "    .dataframe tbody tr th {\n",
       "        vertical-align: top;\n",
       "    }\n",
       "\n",
       "    .dataframe thead th {\n",
       "        text-align: right;\n",
       "    }\n",
       "</style>\n",
       "<table border=\"1\" class=\"dataframe\">\n",
       "  <thead>\n",
       "    <tr style=\"text-align: right;\">\n",
       "      <th></th>\n",
       "      <th>name</th>\n",
       "      <th>id</th>\n",
       "    </tr>\n",
       "  </thead>\n",
       "  <tbody>\n",
       "    <tr>\n",
       "      <th>0</th>\n",
       "      <td>CHEESE</td>\n",
       "      <td>7qpSatdWQcRHA3hpedL2u4</td>\n",
       "    </tr>\n",
       "    <tr>\n",
       "      <th>1</th>\n",
       "      <td>Thunderous</td>\n",
       "      <td>0nwTMzpatarzvLvtwwzdCt</td>\n",
       "    </tr>\n",
       "    <tr>\n",
       "      <th>2</th>\n",
       "      <td>DOMINO</td>\n",
       "      <td>6Ib6RkvLBMD85bov85apSL</td>\n",
       "    </tr>\n",
       "    <tr>\n",
       "      <th>3</th>\n",
       "      <td>SSICK</td>\n",
       "      <td>238HdxvQkmYeSyo6qkPQoU</td>\n",
       "    </tr>\n",
       "    <tr>\n",
       "      <th>4</th>\n",
       "      <td>The View</td>\n",
       "      <td>5FM1V3qjHroqsXRBbL57rW</td>\n",
       "    </tr>\n",
       "  </tbody>\n",
       "</table>\n",
       "</div>"
      ],
      "text/plain": [
       "         name                      id\n",
       "0      CHEESE  7qpSatdWQcRHA3hpedL2u4\n",
       "1  Thunderous  0nwTMzpatarzvLvtwwzdCt\n",
       "2      DOMINO  6Ib6RkvLBMD85bov85apSL\n",
       "3       SSICK  238HdxvQkmYeSyo6qkPQoU\n",
       "4    The View  5FM1V3qjHroqsXRBbL57rW"
      ]
     },
     "execution_count": 16,
     "metadata": {},
     "output_type": "execute_result"
    }
   ],
   "source": [
    "noeasy_info_summ = noeasy_df[['name','id']]\n",
    "noeasy_info_summ.head()"
   ]
  },
  {
   "cell_type": "markdown",
   "id": "fa26239b",
   "metadata": {},
   "source": [
    "To get more data on the album's songs, I had to format the songs IDs into one line of information separated by commas and put it into the endpoint."
   ]
  },
  {
   "cell_type": "code",
   "execution_count": 17,
   "id": "b1ec388f",
   "metadata": {},
   "outputs": [],
   "source": [
    "noeasy_af_url = 'https://api.spotify.com/v1/audio-features?ids={}'.format(','.join(list(noeasy_info_summ['id'])))"
   ]
  },
  {
   "cell_type": "code",
   "execution_count": 18,
   "id": "a3e11e7e",
   "metadata": {},
   "outputs": [],
   "source": [
    "audiofeatures_noeasy = requests.get(url = noeasy_af_url, headers = session_headers)"
   ]
  },
  {
   "cell_type": "markdown",
   "id": "7556e239",
   "metadata": {},
   "source": [
    "To confirm, I asked for the status code of the request and got back 200, letting me know that I could proceed."
   ]
  },
  {
   "cell_type": "code",
   "execution_count": 19,
   "id": "10b8f778",
   "metadata": {},
   "outputs": [
    {
     "data": {
      "text/plain": [
       "200"
      ]
     },
     "execution_count": 19,
     "metadata": {},
     "output_type": "execute_result"
    }
   ],
   "source": [
    "audiofeatures_noeasy.status_code"
   ]
  },
  {
   "cell_type": "markdown",
   "id": "89e107aa",
   "metadata": {},
   "source": [
    "I also had to transform it into json in order to create a table with all of the information provided."
   ]
  },
  {
   "cell_type": "code",
   "execution_count": 20,
   "id": "b6da8bba",
   "metadata": {},
   "outputs": [],
   "source": [
    "audio_noeasy = audiofeatures_noeasy.json()"
   ]
  },
  {
   "cell_type": "code",
   "execution_count": 21,
   "id": "b635856f",
   "metadata": {},
   "outputs": [
    {
     "data": {
      "text/html": [
       "<div>\n",
       "<style scoped>\n",
       "    .dataframe tbody tr th:only-of-type {\n",
       "        vertical-align: middle;\n",
       "    }\n",
       "\n",
       "    .dataframe tbody tr th {\n",
       "        vertical-align: top;\n",
       "    }\n",
       "\n",
       "    .dataframe thead th {\n",
       "        text-align: right;\n",
       "    }\n",
       "</style>\n",
       "<table border=\"1\" class=\"dataframe\">\n",
       "  <thead>\n",
       "    <tr style=\"text-align: right;\">\n",
       "      <th></th>\n",
       "      <th>danceability</th>\n",
       "      <th>energy</th>\n",
       "      <th>key</th>\n",
       "      <th>loudness</th>\n",
       "      <th>mode</th>\n",
       "      <th>speechiness</th>\n",
       "      <th>acousticness</th>\n",
       "      <th>instrumentalness</th>\n",
       "      <th>liveness</th>\n",
       "      <th>valence</th>\n",
       "      <th>tempo</th>\n",
       "      <th>type</th>\n",
       "      <th>id</th>\n",
       "      <th>uri</th>\n",
       "      <th>track_href</th>\n",
       "      <th>analysis_url</th>\n",
       "      <th>duration_ms</th>\n",
       "      <th>time_signature</th>\n",
       "    </tr>\n",
       "  </thead>\n",
       "  <tbody>\n",
       "    <tr>\n",
       "      <th>0</th>\n",
       "      <td>0.376</td>\n",
       "      <td>0.946</td>\n",
       "      <td>2</td>\n",
       "      <td>-2.388</td>\n",
       "      <td>1</td>\n",
       "      <td>0.2680</td>\n",
       "      <td>0.0302</td>\n",
       "      <td>0</td>\n",
       "      <td>0.1470</td>\n",
       "      <td>0.581</td>\n",
       "      <td>89.657</td>\n",
       "      <td>audio_features</td>\n",
       "      <td>7qpSatdWQcRHA3hpedL2u4</td>\n",
       "      <td>spotify:track:7qpSatdWQcRHA3hpedL2u4</td>\n",
       "      <td>https://api.spotify.com/v1/tracks/7qpSatdWQcRH...</td>\n",
       "      <td>https://api.spotify.com/v1/audio-analysis/7qpS...</td>\n",
       "      <td>182080</td>\n",
       "      <td>3</td>\n",
       "    </tr>\n",
       "    <tr>\n",
       "      <th>1</th>\n",
       "      <td>0.601</td>\n",
       "      <td>0.786</td>\n",
       "      <td>1</td>\n",
       "      <td>-3.706</td>\n",
       "      <td>1</td>\n",
       "      <td>0.2340</td>\n",
       "      <td>0.2130</td>\n",
       "      <td>0</td>\n",
       "      <td>0.2090</td>\n",
       "      <td>0.790</td>\n",
       "      <td>172.156</td>\n",
       "      <td>audio_features</td>\n",
       "      <td>0nwTMzpatarzvLvtwwzdCt</td>\n",
       "      <td>spotify:track:0nwTMzpatarzvLvtwwzdCt</td>\n",
       "      <td>https://api.spotify.com/v1/tracks/0nwTMzpatarz...</td>\n",
       "      <td>https://api.spotify.com/v1/audio-analysis/0nwT...</td>\n",
       "      <td>183267</td>\n",
       "      <td>4</td>\n",
       "    </tr>\n",
       "    <tr>\n",
       "      <th>2</th>\n",
       "      <td>0.687</td>\n",
       "      <td>0.866</td>\n",
       "      <td>7</td>\n",
       "      <td>-2.010</td>\n",
       "      <td>1</td>\n",
       "      <td>0.0466</td>\n",
       "      <td>0.0301</td>\n",
       "      <td>0</td>\n",
       "      <td>0.0755</td>\n",
       "      <td>0.696</td>\n",
       "      <td>160.066</td>\n",
       "      <td>audio_features</td>\n",
       "      <td>6Ib6RkvLBMD85bov85apSL</td>\n",
       "      <td>spotify:track:6Ib6RkvLBMD85bov85apSL</td>\n",
       "      <td>https://api.spotify.com/v1/tracks/6Ib6RkvLBMD8...</td>\n",
       "      <td>https://api.spotify.com/v1/audio-analysis/6Ib6...</td>\n",
       "      <td>198720</td>\n",
       "      <td>4</td>\n",
       "    </tr>\n",
       "    <tr>\n",
       "      <th>3</th>\n",
       "      <td>0.667</td>\n",
       "      <td>0.829</td>\n",
       "      <td>5</td>\n",
       "      <td>-2.922</td>\n",
       "      <td>0</td>\n",
       "      <td>0.0946</td>\n",
       "      <td>0.0149</td>\n",
       "      <td>0</td>\n",
       "      <td>0.4280</td>\n",
       "      <td>0.505</td>\n",
       "      <td>170.009</td>\n",
       "      <td>audio_features</td>\n",
       "      <td>238HdxvQkmYeSyo6qkPQoU</td>\n",
       "      <td>spotify:track:238HdxvQkmYeSyo6qkPQoU</td>\n",
       "      <td>https://api.spotify.com/v1/tracks/238HdxvQkmYe...</td>\n",
       "      <td>https://api.spotify.com/v1/audio-analysis/238H...</td>\n",
       "      <td>190147</td>\n",
       "      <td>4</td>\n",
       "    </tr>\n",
       "    <tr>\n",
       "      <th>4</th>\n",
       "      <td>0.758</td>\n",
       "      <td>0.814</td>\n",
       "      <td>1</td>\n",
       "      <td>-4.132</td>\n",
       "      <td>1</td>\n",
       "      <td>0.1060</td>\n",
       "      <td>0.0558</td>\n",
       "      <td>0</td>\n",
       "      <td>0.1380</td>\n",
       "      <td>0.590</td>\n",
       "      <td>110.001</td>\n",
       "      <td>audio_features</td>\n",
       "      <td>5FM1V3qjHroqsXRBbL57rW</td>\n",
       "      <td>spotify:track:5FM1V3qjHroqsXRBbL57rW</td>\n",
       "      <td>https://api.spotify.com/v1/tracks/5FM1V3qjHroq...</td>\n",
       "      <td>https://api.spotify.com/v1/audio-analysis/5FM1...</td>\n",
       "      <td>201747</td>\n",
       "      <td>4</td>\n",
       "    </tr>\n",
       "  </tbody>\n",
       "</table>\n",
       "</div>"
      ],
      "text/plain": [
       "   danceability  energy  key  loudness  mode  speechiness  acousticness  \\\n",
       "0         0.376   0.946    2    -2.388     1       0.2680        0.0302   \n",
       "1         0.601   0.786    1    -3.706     1       0.2340        0.2130   \n",
       "2         0.687   0.866    7    -2.010     1       0.0466        0.0301   \n",
       "3         0.667   0.829    5    -2.922     0       0.0946        0.0149   \n",
       "4         0.758   0.814    1    -4.132     1       0.1060        0.0558   \n",
       "\n",
       "   instrumentalness  liveness  valence    tempo            type  \\\n",
       "0                 0    0.1470    0.581   89.657  audio_features   \n",
       "1                 0    0.2090    0.790  172.156  audio_features   \n",
       "2                 0    0.0755    0.696  160.066  audio_features   \n",
       "3                 0    0.4280    0.505  170.009  audio_features   \n",
       "4                 0    0.1380    0.590  110.001  audio_features   \n",
       "\n",
       "                       id                                   uri  \\\n",
       "0  7qpSatdWQcRHA3hpedL2u4  spotify:track:7qpSatdWQcRHA3hpedL2u4   \n",
       "1  0nwTMzpatarzvLvtwwzdCt  spotify:track:0nwTMzpatarzvLvtwwzdCt   \n",
       "2  6Ib6RkvLBMD85bov85apSL  spotify:track:6Ib6RkvLBMD85bov85apSL   \n",
       "3  238HdxvQkmYeSyo6qkPQoU  spotify:track:238HdxvQkmYeSyo6qkPQoU   \n",
       "4  5FM1V3qjHroqsXRBbL57rW  spotify:track:5FM1V3qjHroqsXRBbL57rW   \n",
       "\n",
       "                                          track_href  \\\n",
       "0  https://api.spotify.com/v1/tracks/7qpSatdWQcRH...   \n",
       "1  https://api.spotify.com/v1/tracks/0nwTMzpatarz...   \n",
       "2  https://api.spotify.com/v1/tracks/6Ib6RkvLBMD8...   \n",
       "3  https://api.spotify.com/v1/tracks/238HdxvQkmYe...   \n",
       "4  https://api.spotify.com/v1/tracks/5FM1V3qjHroq...   \n",
       "\n",
       "                                        analysis_url  duration_ms  \\\n",
       "0  https://api.spotify.com/v1/audio-analysis/7qpS...       182080   \n",
       "1  https://api.spotify.com/v1/audio-analysis/0nwT...       183267   \n",
       "2  https://api.spotify.com/v1/audio-analysis/6Ib6...       198720   \n",
       "3  https://api.spotify.com/v1/audio-analysis/238H...       190147   \n",
       "4  https://api.spotify.com/v1/audio-analysis/5FM1...       201747   \n",
       "\n",
       "   time_signature  \n",
       "0               3  \n",
       "1               4  \n",
       "2               4  \n",
       "3               4  \n",
       "4               4  "
      ]
     },
     "execution_count": 21,
     "metadata": {},
     "output_type": "execute_result"
    }
   ],
   "source": [
    "audio_noeasy_df = pd.DataFrame(audio_noeasy['audio_features'])\n",
    "audio_noeasy_df.head()"
   ]
  },
  {
   "cell_type": "markdown",
   "id": "f7e94e09",
   "metadata": {},
   "source": [
    "After looking at the table, I decided to also make a summary for this data to have only the crucial ones for the analysis: energy and tempo. I also had to keep the ID column to then be able to combine it with the tracks names (from the other data frame), as the ID is the only information in common."
   ]
  },
  {
   "cell_type": "code",
   "execution_count": 22,
   "id": "a8b60035",
   "metadata": {},
   "outputs": [],
   "source": [
    "audio_summ_noeasy = audio_noeasy_df[['energy','tempo','id']]"
   ]
  },
  {
   "cell_type": "code",
   "execution_count": 23,
   "id": "6397b00a",
   "metadata": {},
   "outputs": [
    {
     "data": {
      "text/html": [
       "<div>\n",
       "<style scoped>\n",
       "    .dataframe tbody tr th:only-of-type {\n",
       "        vertical-align: middle;\n",
       "    }\n",
       "\n",
       "    .dataframe tbody tr th {\n",
       "        vertical-align: top;\n",
       "    }\n",
       "\n",
       "    .dataframe thead th {\n",
       "        text-align: right;\n",
       "    }\n",
       "</style>\n",
       "<table border=\"1\" class=\"dataframe\">\n",
       "  <thead>\n",
       "    <tr style=\"text-align: right;\">\n",
       "      <th></th>\n",
       "      <th>name</th>\n",
       "      <th>id</th>\n",
       "      <th>energy</th>\n",
       "      <th>tempo</th>\n",
       "    </tr>\n",
       "  </thead>\n",
       "  <tbody>\n",
       "    <tr>\n",
       "      <th>0</th>\n",
       "      <td>CHEESE</td>\n",
       "      <td>7qpSatdWQcRHA3hpedL2u4</td>\n",
       "      <td>0.946</td>\n",
       "      <td>89.657</td>\n",
       "    </tr>\n",
       "    <tr>\n",
       "      <th>1</th>\n",
       "      <td>Thunderous</td>\n",
       "      <td>0nwTMzpatarzvLvtwwzdCt</td>\n",
       "      <td>0.786</td>\n",
       "      <td>172.156</td>\n",
       "    </tr>\n",
       "    <tr>\n",
       "      <th>2</th>\n",
       "      <td>DOMINO</td>\n",
       "      <td>6Ib6RkvLBMD85bov85apSL</td>\n",
       "      <td>0.866</td>\n",
       "      <td>160.066</td>\n",
       "    </tr>\n",
       "    <tr>\n",
       "      <th>3</th>\n",
       "      <td>SSICK</td>\n",
       "      <td>238HdxvQkmYeSyo6qkPQoU</td>\n",
       "      <td>0.829</td>\n",
       "      <td>170.009</td>\n",
       "    </tr>\n",
       "    <tr>\n",
       "      <th>4</th>\n",
       "      <td>The View</td>\n",
       "      <td>5FM1V3qjHroqsXRBbL57rW</td>\n",
       "      <td>0.814</td>\n",
       "      <td>110.001</td>\n",
       "    </tr>\n",
       "    <tr>\n",
       "      <th>5</th>\n",
       "      <td>Sorry, I Love You</td>\n",
       "      <td>5kkOHHTccylnkYxDRgDWMs</td>\n",
       "      <td>0.661</td>\n",
       "      <td>100.039</td>\n",
       "    </tr>\n",
       "    <tr>\n",
       "      <th>6</th>\n",
       "      <td>Silent Cry</td>\n",
       "      <td>5kBJH5gU89axZDauhfddpy</td>\n",
       "      <td>0.876</td>\n",
       "      <td>104.000</td>\n",
       "    </tr>\n",
       "    <tr>\n",
       "      <th>7</th>\n",
       "      <td>Secret Secret</td>\n",
       "      <td>1pLJ9T4v4p68otzCDonbc6</td>\n",
       "      <td>0.743</td>\n",
       "      <td>73.969</td>\n",
       "    </tr>\n",
       "    <tr>\n",
       "      <th>8</th>\n",
       "      <td>Star Lost</td>\n",
       "      <td>1LSHzXAZXQH9R1zSEFF8Hz</td>\n",
       "      <td>0.867</td>\n",
       "      <td>128.050</td>\n",
       "    </tr>\n",
       "    <tr>\n",
       "      <th>9</th>\n",
       "      <td>Red Lights (Bang Chan, Hyunjin)</td>\n",
       "      <td>0LatE4S9UtCDwIdGQsFFKL</td>\n",
       "      <td>0.740</td>\n",
       "      <td>127.974</td>\n",
       "    </tr>\n",
       "    <tr>\n",
       "      <th>10</th>\n",
       "      <td>Surfin’ (Lee Know, Changbin, Felix)</td>\n",
       "      <td>1FdnsU6An1Ye3uBJe8j23c</td>\n",
       "      <td>0.758</td>\n",
       "      <td>104.960</td>\n",
       "    </tr>\n",
       "    <tr>\n",
       "      <th>11</th>\n",
       "      <td>Gone Away (HAN, Seungmin, I.N)</td>\n",
       "      <td>6l8YJbgWzvh05e3Bnfw9lw</td>\n",
       "      <td>0.743</td>\n",
       "      <td>143.838</td>\n",
       "    </tr>\n",
       "    <tr>\n",
       "      <th>12</th>\n",
       "      <td>WOLFGANG</td>\n",
       "      <td>0aWEt5aMfU2zYxE1tg2efw</td>\n",
       "      <td>0.848</td>\n",
       "      <td>161.672</td>\n",
       "    </tr>\n",
       "    <tr>\n",
       "      <th>13</th>\n",
       "      <td>Mixtape : OH</td>\n",
       "      <td>2afx8zfrOsN3QVEWSx5IPp</td>\n",
       "      <td>0.685</td>\n",
       "      <td>87.982</td>\n",
       "    </tr>\n",
       "  </tbody>\n",
       "</table>\n",
       "</div>"
      ],
      "text/plain": [
       "                                   name                      id  energy  \\\n",
       "0                                CHEESE  7qpSatdWQcRHA3hpedL2u4   0.946   \n",
       "1                            Thunderous  0nwTMzpatarzvLvtwwzdCt   0.786   \n",
       "2                                DOMINO  6Ib6RkvLBMD85bov85apSL   0.866   \n",
       "3                                 SSICK  238HdxvQkmYeSyo6qkPQoU   0.829   \n",
       "4                              The View  5FM1V3qjHroqsXRBbL57rW   0.814   \n",
       "5                     Sorry, I Love You  5kkOHHTccylnkYxDRgDWMs   0.661   \n",
       "6                            Silent Cry  5kBJH5gU89axZDauhfddpy   0.876   \n",
       "7                         Secret Secret  1pLJ9T4v4p68otzCDonbc6   0.743   \n",
       "8                             Star Lost  1LSHzXAZXQH9R1zSEFF8Hz   0.867   \n",
       "9       Red Lights (Bang Chan, Hyunjin)  0LatE4S9UtCDwIdGQsFFKL   0.740   \n",
       "10  Surfin’ (Lee Know, Changbin, Felix)  1FdnsU6An1Ye3uBJe8j23c   0.758   \n",
       "11       Gone Away (HAN, Seungmin, I.N)  6l8YJbgWzvh05e3Bnfw9lw   0.743   \n",
       "12                             WOLFGANG  0aWEt5aMfU2zYxE1tg2efw   0.848   \n",
       "13                         Mixtape : OH  2afx8zfrOsN3QVEWSx5IPp   0.685   \n",
       "\n",
       "      tempo  \n",
       "0    89.657  \n",
       "1   172.156  \n",
       "2   160.066  \n",
       "3   170.009  \n",
       "4   110.001  \n",
       "5   100.039  \n",
       "6   104.000  \n",
       "7    73.969  \n",
       "8   128.050  \n",
       "9   127.974  \n",
       "10  104.960  \n",
       "11  143.838  \n",
       "12  161.672  \n",
       "13   87.982  "
      ]
     },
     "execution_count": 23,
     "metadata": {},
     "output_type": "execute_result"
    }
   ],
   "source": [
    "combined_noeasy_df = pd.merge(noeasy_info_summ,audio_summ_noeasy, how = 'inner', on = 'id')\n",
    "combined_noeasy_df"
   ]
  },
  {
   "cell_type": "markdown",
   "id": "a1ec3e02",
   "metadata": {},
   "source": [
    "#### Can't be Tamed by Miley Cyrus"
   ]
  },
  {
   "cell_type": "markdown",
   "id": "b651e756",
   "metadata": {},
   "source": [
    "Just like what I did with the first album, I got the ID from Can't be Tamed, put it into the albums endpoint, got a response from this request, and transformed it into json."
   ]
  },
  {
   "cell_type": "code",
   "execution_count": 24,
   "id": "4f47e2e6",
   "metadata": {},
   "outputs": [],
   "source": [
    "tamed_id = '69Pf9ExxwjhVFyosKsKWQu'"
   ]
  },
  {
   "cell_type": "code",
   "execution_count": 25,
   "id": "6a25513e",
   "metadata": {},
   "outputs": [],
   "source": [
    "album2_url = 'https://api.spotify.com/v1/albums/{}/tracks'.format(tamed_id)"
   ]
  },
  {
   "cell_type": "code",
   "execution_count": 26,
   "id": "cbd457c0",
   "metadata": {},
   "outputs": [],
   "source": [
    "response2 = requests.get(url = album2_url, headers = session_headers)"
   ]
  },
  {
   "cell_type": "code",
   "execution_count": 27,
   "id": "6c144d51",
   "metadata": {},
   "outputs": [],
   "source": [
    "data_tamed = response2.json() "
   ]
  },
  {
   "cell_type": "markdown",
   "id": "033fbc5a",
   "metadata": {},
   "source": [
    "As I already had an idea of what is included in this response, I made a table with the data and then proceeded to create a summarized version of the information, containing only the name and ID for the songs."
   ]
  },
  {
   "cell_type": "code",
   "execution_count": 28,
   "id": "347aee27",
   "metadata": {},
   "outputs": [
    {
     "data": {
      "text/html": [
       "<div>\n",
       "<style scoped>\n",
       "    .dataframe tbody tr th:only-of-type {\n",
       "        vertical-align: middle;\n",
       "    }\n",
       "\n",
       "    .dataframe tbody tr th {\n",
       "        vertical-align: top;\n",
       "    }\n",
       "\n",
       "    .dataframe thead th {\n",
       "        text-align: right;\n",
       "    }\n",
       "</style>\n",
       "<table border=\"1\" class=\"dataframe\">\n",
       "  <thead>\n",
       "    <tr style=\"text-align: right;\">\n",
       "      <th></th>\n",
       "      <th>artists</th>\n",
       "      <th>available_markets</th>\n",
       "      <th>disc_number</th>\n",
       "      <th>duration_ms</th>\n",
       "      <th>explicit</th>\n",
       "      <th>external_urls</th>\n",
       "      <th>href</th>\n",
       "      <th>id</th>\n",
       "      <th>is_local</th>\n",
       "      <th>name</th>\n",
       "      <th>preview_url</th>\n",
       "      <th>track_number</th>\n",
       "      <th>type</th>\n",
       "      <th>uri</th>\n",
       "    </tr>\n",
       "  </thead>\n",
       "  <tbody>\n",
       "    <tr>\n",
       "      <th>0</th>\n",
       "      <td>[{'external_urls': {'spotify': 'https://open.s...</td>\n",
       "      <td>[AR, AU, AT, BE, BO, BR, BG, CA, CL, CO, CR, C...</td>\n",
       "      <td>1</td>\n",
       "      <td>246266</td>\n",
       "      <td>False</td>\n",
       "      <td>{'spotify': 'https://open.spotify.com/track/3i...</td>\n",
       "      <td>https://api.spotify.com/v1/tracks/3icywpqJ6o39...</td>\n",
       "      <td>3icywpqJ6o39VY61BXcGQS</td>\n",
       "      <td>False</td>\n",
       "      <td>Liberty Walk</td>\n",
       "      <td>None</td>\n",
       "      <td>1</td>\n",
       "      <td>track</td>\n",
       "      <td>spotify:track:3icywpqJ6o39VY61BXcGQS</td>\n",
       "    </tr>\n",
       "    <tr>\n",
       "      <th>1</th>\n",
       "      <td>[{'external_urls': {'spotify': 'https://open.s...</td>\n",
       "      <td>[AR, AU, AT, BE, BO, BR, BG, CA, CL, CO, CR, C...</td>\n",
       "      <td>1</td>\n",
       "      <td>214853</td>\n",
       "      <td>False</td>\n",
       "      <td>{'spotify': 'https://open.spotify.com/track/4b...</td>\n",
       "      <td>https://api.spotify.com/v1/tracks/4buvG5Kmstm8...</td>\n",
       "      <td>4buvG5Kmstm8UMjSgUrv2X</td>\n",
       "      <td>False</td>\n",
       "      <td>Who Owns My Heart</td>\n",
       "      <td>None</td>\n",
       "      <td>2</td>\n",
       "      <td>track</td>\n",
       "      <td>spotify:track:4buvG5Kmstm8UMjSgUrv2X</td>\n",
       "    </tr>\n",
       "    <tr>\n",
       "      <th>2</th>\n",
       "      <td>[{'external_urls': {'spotify': 'https://open.s...</td>\n",
       "      <td>[AR, AU, AT, BE, BO, BR, BG, CA, CL, CO, CR, C...</td>\n",
       "      <td>1</td>\n",
       "      <td>168213</td>\n",
       "      <td>False</td>\n",
       "      <td>{'spotify': 'https://open.spotify.com/track/2r...</td>\n",
       "      <td>https://api.spotify.com/v1/tracks/2r6DdaSbkbwo...</td>\n",
       "      <td>2r6DdaSbkbwoPzuK6NjLPn</td>\n",
       "      <td>False</td>\n",
       "      <td>Can't Be Tamed</td>\n",
       "      <td>None</td>\n",
       "      <td>3</td>\n",
       "      <td>track</td>\n",
       "      <td>spotify:track:2r6DdaSbkbwoPzuK6NjLPn</td>\n",
       "    </tr>\n",
       "    <tr>\n",
       "      <th>3</th>\n",
       "      <td>[{'external_urls': {'spotify': 'https://open.s...</td>\n",
       "      <td>[AR, AU, AT, BE, BO, BR, BG, CA, CL, CO, CR, C...</td>\n",
       "      <td>1</td>\n",
       "      <td>228240</td>\n",
       "      <td>False</td>\n",
       "      <td>{'spotify': 'https://open.spotify.com/track/2G...</td>\n",
       "      <td>https://api.spotify.com/v1/tracks/2GFAmPwmQByP...</td>\n",
       "      <td>2GFAmPwmQByPEeWcjiR8AE</td>\n",
       "      <td>False</td>\n",
       "      <td>Every Rose Has Its Thorn</td>\n",
       "      <td>None</td>\n",
       "      <td>4</td>\n",
       "      <td>track</td>\n",
       "      <td>spotify:track:2GFAmPwmQByPEeWcjiR8AE</td>\n",
       "    </tr>\n",
       "    <tr>\n",
       "      <th>4</th>\n",
       "      <td>[{'external_urls': {'spotify': 'https://open.s...</td>\n",
       "      <td>[AR, AU, AT, BE, BO, BR, BG, CA, CL, CO, CR, C...</td>\n",
       "      <td>1</td>\n",
       "      <td>189946</td>\n",
       "      <td>False</td>\n",
       "      <td>{'spotify': 'https://open.spotify.com/track/1X...</td>\n",
       "      <td>https://api.spotify.com/v1/tracks/1XSJ3mgsnkT9...</td>\n",
       "      <td>1XSJ3mgsnkT9DnhbXl29uf</td>\n",
       "      <td>False</td>\n",
       "      <td>Two More Lonely People</td>\n",
       "      <td>None</td>\n",
       "      <td>5</td>\n",
       "      <td>track</td>\n",
       "      <td>spotify:track:1XSJ3mgsnkT9DnhbXl29uf</td>\n",
       "    </tr>\n",
       "  </tbody>\n",
       "</table>\n",
       "</div>"
      ],
      "text/plain": [
       "                                             artists  \\\n",
       "0  [{'external_urls': {'spotify': 'https://open.s...   \n",
       "1  [{'external_urls': {'spotify': 'https://open.s...   \n",
       "2  [{'external_urls': {'spotify': 'https://open.s...   \n",
       "3  [{'external_urls': {'spotify': 'https://open.s...   \n",
       "4  [{'external_urls': {'spotify': 'https://open.s...   \n",
       "\n",
       "                                   available_markets  disc_number  \\\n",
       "0  [AR, AU, AT, BE, BO, BR, BG, CA, CL, CO, CR, C...            1   \n",
       "1  [AR, AU, AT, BE, BO, BR, BG, CA, CL, CO, CR, C...            1   \n",
       "2  [AR, AU, AT, BE, BO, BR, BG, CA, CL, CO, CR, C...            1   \n",
       "3  [AR, AU, AT, BE, BO, BR, BG, CA, CL, CO, CR, C...            1   \n",
       "4  [AR, AU, AT, BE, BO, BR, BG, CA, CL, CO, CR, C...            1   \n",
       "\n",
       "   duration_ms  explicit                                      external_urls  \\\n",
       "0       246266     False  {'spotify': 'https://open.spotify.com/track/3i...   \n",
       "1       214853     False  {'spotify': 'https://open.spotify.com/track/4b...   \n",
       "2       168213     False  {'spotify': 'https://open.spotify.com/track/2r...   \n",
       "3       228240     False  {'spotify': 'https://open.spotify.com/track/2G...   \n",
       "4       189946     False  {'spotify': 'https://open.spotify.com/track/1X...   \n",
       "\n",
       "                                                href                      id  \\\n",
       "0  https://api.spotify.com/v1/tracks/3icywpqJ6o39...  3icywpqJ6o39VY61BXcGQS   \n",
       "1  https://api.spotify.com/v1/tracks/4buvG5Kmstm8...  4buvG5Kmstm8UMjSgUrv2X   \n",
       "2  https://api.spotify.com/v1/tracks/2r6DdaSbkbwo...  2r6DdaSbkbwoPzuK6NjLPn   \n",
       "3  https://api.spotify.com/v1/tracks/2GFAmPwmQByP...  2GFAmPwmQByPEeWcjiR8AE   \n",
       "4  https://api.spotify.com/v1/tracks/1XSJ3mgsnkT9...  1XSJ3mgsnkT9DnhbXl29uf   \n",
       "\n",
       "   is_local                      name preview_url  track_number   type  \\\n",
       "0     False              Liberty Walk        None             1  track   \n",
       "1     False         Who Owns My Heart        None             2  track   \n",
       "2     False            Can't Be Tamed        None             3  track   \n",
       "3     False  Every Rose Has Its Thorn        None             4  track   \n",
       "4     False    Two More Lonely People        None             5  track   \n",
       "\n",
       "                                    uri  \n",
       "0  spotify:track:3icywpqJ6o39VY61BXcGQS  \n",
       "1  spotify:track:4buvG5Kmstm8UMjSgUrv2X  \n",
       "2  spotify:track:2r6DdaSbkbwoPzuK6NjLPn  \n",
       "3  spotify:track:2GFAmPwmQByPEeWcjiR8AE  \n",
       "4  spotify:track:1XSJ3mgsnkT9DnhbXl29uf  "
      ]
     },
     "execution_count": 28,
     "metadata": {},
     "output_type": "execute_result"
    }
   ],
   "source": [
    "tamed_df = pd.DataFrame(data_tamed['items'])\n",
    "tamed_df.head()"
   ]
  },
  {
   "cell_type": "code",
   "execution_count": 29,
   "id": "903c5995",
   "metadata": {},
   "outputs": [
    {
     "data": {
      "text/html": [
       "<div>\n",
       "<style scoped>\n",
       "    .dataframe tbody tr th:only-of-type {\n",
       "        vertical-align: middle;\n",
       "    }\n",
       "\n",
       "    .dataframe tbody tr th {\n",
       "        vertical-align: top;\n",
       "    }\n",
       "\n",
       "    .dataframe thead th {\n",
       "        text-align: right;\n",
       "    }\n",
       "</style>\n",
       "<table border=\"1\" class=\"dataframe\">\n",
       "  <thead>\n",
       "    <tr style=\"text-align: right;\">\n",
       "      <th></th>\n",
       "      <th>name</th>\n",
       "      <th>id</th>\n",
       "    </tr>\n",
       "  </thead>\n",
       "  <tbody>\n",
       "    <tr>\n",
       "      <th>0</th>\n",
       "      <td>Liberty Walk</td>\n",
       "      <td>3icywpqJ6o39VY61BXcGQS</td>\n",
       "    </tr>\n",
       "    <tr>\n",
       "      <th>1</th>\n",
       "      <td>Who Owns My Heart</td>\n",
       "      <td>4buvG5Kmstm8UMjSgUrv2X</td>\n",
       "    </tr>\n",
       "    <tr>\n",
       "      <th>2</th>\n",
       "      <td>Can't Be Tamed</td>\n",
       "      <td>2r6DdaSbkbwoPzuK6NjLPn</td>\n",
       "    </tr>\n",
       "    <tr>\n",
       "      <th>3</th>\n",
       "      <td>Every Rose Has Its Thorn</td>\n",
       "      <td>2GFAmPwmQByPEeWcjiR8AE</td>\n",
       "    </tr>\n",
       "    <tr>\n",
       "      <th>4</th>\n",
       "      <td>Two More Lonely People</td>\n",
       "      <td>1XSJ3mgsnkT9DnhbXl29uf</td>\n",
       "    </tr>\n",
       "  </tbody>\n",
       "</table>\n",
       "</div>"
      ],
      "text/plain": [
       "                       name                      id\n",
       "0              Liberty Walk  3icywpqJ6o39VY61BXcGQS\n",
       "1         Who Owns My Heart  4buvG5Kmstm8UMjSgUrv2X\n",
       "2            Can't Be Tamed  2r6DdaSbkbwoPzuK6NjLPn\n",
       "3  Every Rose Has Its Thorn  2GFAmPwmQByPEeWcjiR8AE\n",
       "4    Two More Lonely People  1XSJ3mgsnkT9DnhbXl29uf"
      ]
     },
     "execution_count": 29,
     "metadata": {},
     "output_type": "execute_result"
    }
   ],
   "source": [
    "tamed_info_summ = tamed_df[['name','id']]\n",
    "tamed_info_summ.head()"
   ]
  },
  {
   "cell_type": "markdown",
   "id": "62dc2f88",
   "metadata": {},
   "source": [
    "Just like I did previously, I joined all of the songs IDs with a comma so I could pass it to Spotify and request the audio features for these songs. I confirmed that the request was successful by asking for the status code and receiving a 200 response back."
   ]
  },
  {
   "cell_type": "code",
   "execution_count": 30,
   "id": "c8e6d246",
   "metadata": {},
   "outputs": [],
   "source": [
    "tamed_af_url = 'https://api.spotify.com/v1/audio-features?ids={}'.format(','.join(list(tamed_info_summ['id'])))"
   ]
  },
  {
   "cell_type": "code",
   "execution_count": 31,
   "id": "b0f597b3",
   "metadata": {},
   "outputs": [],
   "source": [
    "audiofeatures_tamed = requests.get(url = tamed_af_url, headers = session_headers)"
   ]
  },
  {
   "cell_type": "code",
   "execution_count": 32,
   "id": "0f72f166",
   "metadata": {},
   "outputs": [
    {
     "data": {
      "text/plain": [
       "200"
      ]
     },
     "execution_count": 32,
     "metadata": {},
     "output_type": "execute_result"
    }
   ],
   "source": [
    "audiofeatures_tamed.status_code"
   ]
  },
  {
   "cell_type": "markdown",
   "id": "bfd81507",
   "metadata": {},
   "source": [
    "Then, I transformed this file to json and created a data frame with the information provided."
   ]
  },
  {
   "cell_type": "code",
   "execution_count": 33,
   "id": "b3c63371",
   "metadata": {},
   "outputs": [],
   "source": [
    "audio_tamed = audiofeatures_tamed.json()"
   ]
  },
  {
   "cell_type": "code",
   "execution_count": 34,
   "id": "d7625cd0",
   "metadata": {},
   "outputs": [
    {
     "data": {
      "text/html": [
       "<div>\n",
       "<style scoped>\n",
       "    .dataframe tbody tr th:only-of-type {\n",
       "        vertical-align: middle;\n",
       "    }\n",
       "\n",
       "    .dataframe tbody tr th {\n",
       "        vertical-align: top;\n",
       "    }\n",
       "\n",
       "    .dataframe thead th {\n",
       "        text-align: right;\n",
       "    }\n",
       "</style>\n",
       "<table border=\"1\" class=\"dataframe\">\n",
       "  <thead>\n",
       "    <tr style=\"text-align: right;\">\n",
       "      <th></th>\n",
       "      <th>danceability</th>\n",
       "      <th>energy</th>\n",
       "      <th>key</th>\n",
       "      <th>loudness</th>\n",
       "      <th>mode</th>\n",
       "      <th>speechiness</th>\n",
       "      <th>acousticness</th>\n",
       "      <th>instrumentalness</th>\n",
       "      <th>liveness</th>\n",
       "      <th>valence</th>\n",
       "      <th>tempo</th>\n",
       "      <th>type</th>\n",
       "      <th>id</th>\n",
       "      <th>uri</th>\n",
       "      <th>track_href</th>\n",
       "      <th>analysis_url</th>\n",
       "      <th>duration_ms</th>\n",
       "      <th>time_signature</th>\n",
       "    </tr>\n",
       "  </thead>\n",
       "  <tbody>\n",
       "    <tr>\n",
       "      <th>0</th>\n",
       "      <td>0.573</td>\n",
       "      <td>0.886</td>\n",
       "      <td>10</td>\n",
       "      <td>-3.569</td>\n",
       "      <td>0</td>\n",
       "      <td>0.0403</td>\n",
       "      <td>0.000472</td>\n",
       "      <td>0.0</td>\n",
       "      <td>0.3600</td>\n",
       "      <td>0.581</td>\n",
       "      <td>119.999</td>\n",
       "      <td>audio_features</td>\n",
       "      <td>3icywpqJ6o39VY61BXcGQS</td>\n",
       "      <td>spotify:track:3icywpqJ6o39VY61BXcGQS</td>\n",
       "      <td>https://api.spotify.com/v1/tracks/3icywpqJ6o39...</td>\n",
       "      <td>https://api.spotify.com/v1/audio-analysis/3icy...</td>\n",
       "      <td>246267</td>\n",
       "      <td>4</td>\n",
       "    </tr>\n",
       "    <tr>\n",
       "      <th>1</th>\n",
       "      <td>0.571</td>\n",
       "      <td>0.805</td>\n",
       "      <td>9</td>\n",
       "      <td>-4.985</td>\n",
       "      <td>0</td>\n",
       "      <td>0.1290</td>\n",
       "      <td>0.010600</td>\n",
       "      <td>0.0</td>\n",
       "      <td>0.0864</td>\n",
       "      <td>0.356</td>\n",
       "      <td>135.908</td>\n",
       "      <td>audio_features</td>\n",
       "      <td>4buvG5Kmstm8UMjSgUrv2X</td>\n",
       "      <td>spotify:track:4buvG5Kmstm8UMjSgUrv2X</td>\n",
       "      <td>https://api.spotify.com/v1/tracks/4buvG5Kmstm8...</td>\n",
       "      <td>https://api.spotify.com/v1/audio-analysis/4buv...</td>\n",
       "      <td>214853</td>\n",
       "      <td>4</td>\n",
       "    </tr>\n",
       "    <tr>\n",
       "      <th>2</th>\n",
       "      <td>0.630</td>\n",
       "      <td>0.910</td>\n",
       "      <td>11</td>\n",
       "      <td>-2.919</td>\n",
       "      <td>0</td>\n",
       "      <td>0.1440</td>\n",
       "      <td>0.028700</td>\n",
       "      <td>0.0</td>\n",
       "      <td>0.1960</td>\n",
       "      <td>0.743</td>\n",
       "      <td>116.980</td>\n",
       "      <td>audio_features</td>\n",
       "      <td>2r6DdaSbkbwoPzuK6NjLPn</td>\n",
       "      <td>spotify:track:2r6DdaSbkbwoPzuK6NjLPn</td>\n",
       "      <td>https://api.spotify.com/v1/tracks/2r6DdaSbkbwo...</td>\n",
       "      <td>https://api.spotify.com/v1/audio-analysis/2r6D...</td>\n",
       "      <td>168213</td>\n",
       "      <td>4</td>\n",
       "    </tr>\n",
       "    <tr>\n",
       "      <th>3</th>\n",
       "      <td>0.254</td>\n",
       "      <td>0.657</td>\n",
       "      <td>10</td>\n",
       "      <td>-4.995</td>\n",
       "      <td>1</td>\n",
       "      <td>0.0385</td>\n",
       "      <td>0.190000</td>\n",
       "      <td>0.0</td>\n",
       "      <td>0.0952</td>\n",
       "      <td>0.352</td>\n",
       "      <td>151.045</td>\n",
       "      <td>audio_features</td>\n",
       "      <td>2GFAmPwmQByPEeWcjiR8AE</td>\n",
       "      <td>spotify:track:2GFAmPwmQByPEeWcjiR8AE</td>\n",
       "      <td>https://api.spotify.com/v1/tracks/2GFAmPwmQByP...</td>\n",
       "      <td>https://api.spotify.com/v1/audio-analysis/2GFA...</td>\n",
       "      <td>228240</td>\n",
       "      <td>4</td>\n",
       "    </tr>\n",
       "    <tr>\n",
       "      <th>4</th>\n",
       "      <td>0.689</td>\n",
       "      <td>0.808</td>\n",
       "      <td>6</td>\n",
       "      <td>-4.018</td>\n",
       "      <td>1</td>\n",
       "      <td>0.0615</td>\n",
       "      <td>0.005430</td>\n",
       "      <td>0.0</td>\n",
       "      <td>0.0631</td>\n",
       "      <td>0.570</td>\n",
       "      <td>128.015</td>\n",
       "      <td>audio_features</td>\n",
       "      <td>1XSJ3mgsnkT9DnhbXl29uf</td>\n",
       "      <td>spotify:track:1XSJ3mgsnkT9DnhbXl29uf</td>\n",
       "      <td>https://api.spotify.com/v1/tracks/1XSJ3mgsnkT9...</td>\n",
       "      <td>https://api.spotify.com/v1/audio-analysis/1XSJ...</td>\n",
       "      <td>189947</td>\n",
       "      <td>4</td>\n",
       "    </tr>\n",
       "  </tbody>\n",
       "</table>\n",
       "</div>"
      ],
      "text/plain": [
       "   danceability  energy  key  loudness  mode  speechiness  acousticness  \\\n",
       "0         0.573   0.886   10    -3.569     0       0.0403      0.000472   \n",
       "1         0.571   0.805    9    -4.985     0       0.1290      0.010600   \n",
       "2         0.630   0.910   11    -2.919     0       0.1440      0.028700   \n",
       "3         0.254   0.657   10    -4.995     1       0.0385      0.190000   \n",
       "4         0.689   0.808    6    -4.018     1       0.0615      0.005430   \n",
       "\n",
       "   instrumentalness  liveness  valence    tempo            type  \\\n",
       "0               0.0    0.3600    0.581  119.999  audio_features   \n",
       "1               0.0    0.0864    0.356  135.908  audio_features   \n",
       "2               0.0    0.1960    0.743  116.980  audio_features   \n",
       "3               0.0    0.0952    0.352  151.045  audio_features   \n",
       "4               0.0    0.0631    0.570  128.015  audio_features   \n",
       "\n",
       "                       id                                   uri  \\\n",
       "0  3icywpqJ6o39VY61BXcGQS  spotify:track:3icywpqJ6o39VY61BXcGQS   \n",
       "1  4buvG5Kmstm8UMjSgUrv2X  spotify:track:4buvG5Kmstm8UMjSgUrv2X   \n",
       "2  2r6DdaSbkbwoPzuK6NjLPn  spotify:track:2r6DdaSbkbwoPzuK6NjLPn   \n",
       "3  2GFAmPwmQByPEeWcjiR8AE  spotify:track:2GFAmPwmQByPEeWcjiR8AE   \n",
       "4  1XSJ3mgsnkT9DnhbXl29uf  spotify:track:1XSJ3mgsnkT9DnhbXl29uf   \n",
       "\n",
       "                                          track_href  \\\n",
       "0  https://api.spotify.com/v1/tracks/3icywpqJ6o39...   \n",
       "1  https://api.spotify.com/v1/tracks/4buvG5Kmstm8...   \n",
       "2  https://api.spotify.com/v1/tracks/2r6DdaSbkbwo...   \n",
       "3  https://api.spotify.com/v1/tracks/2GFAmPwmQByP...   \n",
       "4  https://api.spotify.com/v1/tracks/1XSJ3mgsnkT9...   \n",
       "\n",
       "                                        analysis_url  duration_ms  \\\n",
       "0  https://api.spotify.com/v1/audio-analysis/3icy...       246267   \n",
       "1  https://api.spotify.com/v1/audio-analysis/4buv...       214853   \n",
       "2  https://api.spotify.com/v1/audio-analysis/2r6D...       168213   \n",
       "3  https://api.spotify.com/v1/audio-analysis/2GFA...       228240   \n",
       "4  https://api.spotify.com/v1/audio-analysis/1XSJ...       189947   \n",
       "\n",
       "   time_signature  \n",
       "0               4  \n",
       "1               4  \n",
       "2               4  \n",
       "3               4  \n",
       "4               4  "
      ]
     },
     "execution_count": 34,
     "metadata": {},
     "output_type": "execute_result"
    }
   ],
   "source": [
    "audio_tamed_df = pd.DataFrame(audio_tamed['audio_features'])\n",
    "audio_tamed_df.head()"
   ]
  },
  {
   "cell_type": "markdown",
   "id": "be0ffe12",
   "metadata": {},
   "source": [
    "After that, I created a data frame with only the necessary informaiton for this analysis."
   ]
  },
  {
   "cell_type": "code",
   "execution_count": 35,
   "id": "ca84e79a",
   "metadata": {},
   "outputs": [
    {
     "data": {
      "text/html": [
       "<div>\n",
       "<style scoped>\n",
       "    .dataframe tbody tr th:only-of-type {\n",
       "        vertical-align: middle;\n",
       "    }\n",
       "\n",
       "    .dataframe tbody tr th {\n",
       "        vertical-align: top;\n",
       "    }\n",
       "\n",
       "    .dataframe thead th {\n",
       "        text-align: right;\n",
       "    }\n",
       "</style>\n",
       "<table border=\"1\" class=\"dataframe\">\n",
       "  <thead>\n",
       "    <tr style=\"text-align: right;\">\n",
       "      <th></th>\n",
       "      <th>energy</th>\n",
       "      <th>tempo</th>\n",
       "      <th>id</th>\n",
       "    </tr>\n",
       "  </thead>\n",
       "  <tbody>\n",
       "    <tr>\n",
       "      <th>0</th>\n",
       "      <td>0.886</td>\n",
       "      <td>119.999</td>\n",
       "      <td>3icywpqJ6o39VY61BXcGQS</td>\n",
       "    </tr>\n",
       "    <tr>\n",
       "      <th>1</th>\n",
       "      <td>0.805</td>\n",
       "      <td>135.908</td>\n",
       "      <td>4buvG5Kmstm8UMjSgUrv2X</td>\n",
       "    </tr>\n",
       "    <tr>\n",
       "      <th>2</th>\n",
       "      <td>0.910</td>\n",
       "      <td>116.980</td>\n",
       "      <td>2r6DdaSbkbwoPzuK6NjLPn</td>\n",
       "    </tr>\n",
       "    <tr>\n",
       "      <th>3</th>\n",
       "      <td>0.657</td>\n",
       "      <td>151.045</td>\n",
       "      <td>2GFAmPwmQByPEeWcjiR8AE</td>\n",
       "    </tr>\n",
       "    <tr>\n",
       "      <th>4</th>\n",
       "      <td>0.808</td>\n",
       "      <td>128.015</td>\n",
       "      <td>1XSJ3mgsnkT9DnhbXl29uf</td>\n",
       "    </tr>\n",
       "  </tbody>\n",
       "</table>\n",
       "</div>"
      ],
      "text/plain": [
       "   energy    tempo                      id\n",
       "0   0.886  119.999  3icywpqJ6o39VY61BXcGQS\n",
       "1   0.805  135.908  4buvG5Kmstm8UMjSgUrv2X\n",
       "2   0.910  116.980  2r6DdaSbkbwoPzuK6NjLPn\n",
       "3   0.657  151.045  2GFAmPwmQByPEeWcjiR8AE\n",
       "4   0.808  128.015  1XSJ3mgsnkT9DnhbXl29uf"
      ]
     },
     "execution_count": 35,
     "metadata": {},
     "output_type": "execute_result"
    }
   ],
   "source": [
    "audio_summ_tamed = audio_tamed_df[['energy','tempo','id']]\n",
    "audio_summ_tamed.head()"
   ]
  },
  {
   "cell_type": "markdown",
   "id": "525af81c",
   "metadata": {},
   "source": [
    "With all this information gathered, I combined the tables by the only column in common: ID."
   ]
  },
  {
   "cell_type": "code",
   "execution_count": 36,
   "id": "a218d2fe",
   "metadata": {},
   "outputs": [
    {
     "data": {
      "text/html": [
       "<div>\n",
       "<style scoped>\n",
       "    .dataframe tbody tr th:only-of-type {\n",
       "        vertical-align: middle;\n",
       "    }\n",
       "\n",
       "    .dataframe tbody tr th {\n",
       "        vertical-align: top;\n",
       "    }\n",
       "\n",
       "    .dataframe thead th {\n",
       "        text-align: right;\n",
       "    }\n",
       "</style>\n",
       "<table border=\"1\" class=\"dataframe\">\n",
       "  <thead>\n",
       "    <tr style=\"text-align: right;\">\n",
       "      <th></th>\n",
       "      <th>name</th>\n",
       "      <th>id</th>\n",
       "      <th>energy</th>\n",
       "      <th>tempo</th>\n",
       "    </tr>\n",
       "  </thead>\n",
       "  <tbody>\n",
       "    <tr>\n",
       "      <th>0</th>\n",
       "      <td>Liberty Walk</td>\n",
       "      <td>3icywpqJ6o39VY61BXcGQS</td>\n",
       "      <td>0.886</td>\n",
       "      <td>119.999</td>\n",
       "    </tr>\n",
       "    <tr>\n",
       "      <th>1</th>\n",
       "      <td>Who Owns My Heart</td>\n",
       "      <td>4buvG5Kmstm8UMjSgUrv2X</td>\n",
       "      <td>0.805</td>\n",
       "      <td>135.908</td>\n",
       "    </tr>\n",
       "    <tr>\n",
       "      <th>2</th>\n",
       "      <td>Can't Be Tamed</td>\n",
       "      <td>2r6DdaSbkbwoPzuK6NjLPn</td>\n",
       "      <td>0.910</td>\n",
       "      <td>116.980</td>\n",
       "    </tr>\n",
       "    <tr>\n",
       "      <th>3</th>\n",
       "      <td>Every Rose Has Its Thorn</td>\n",
       "      <td>2GFAmPwmQByPEeWcjiR8AE</td>\n",
       "      <td>0.657</td>\n",
       "      <td>151.045</td>\n",
       "    </tr>\n",
       "    <tr>\n",
       "      <th>4</th>\n",
       "      <td>Two More Lonely People</td>\n",
       "      <td>1XSJ3mgsnkT9DnhbXl29uf</td>\n",
       "      <td>0.808</td>\n",
       "      <td>128.015</td>\n",
       "    </tr>\n",
       "    <tr>\n",
       "      <th>5</th>\n",
       "      <td>Forgiveness And Love</td>\n",
       "      <td>2kky2FdWijLG4YtQdtaB8p</td>\n",
       "      <td>0.709</td>\n",
       "      <td>99.245</td>\n",
       "    </tr>\n",
       "    <tr>\n",
       "      <th>6</th>\n",
       "      <td>Permanent December</td>\n",
       "      <td>4OjxWxKvCxl5FltPukiiX9</td>\n",
       "      <td>0.920</td>\n",
       "      <td>124.985</td>\n",
       "    </tr>\n",
       "    <tr>\n",
       "      <th>7</th>\n",
       "      <td>Stay</td>\n",
       "      <td>0Ohi2pjBS1yak2BSgJRaIs</td>\n",
       "      <td>0.698</td>\n",
       "      <td>129.985</td>\n",
       "    </tr>\n",
       "    <tr>\n",
       "      <th>8</th>\n",
       "      <td>Scars</td>\n",
       "      <td>2VBbNPioFgkakgcp1jvmN7</td>\n",
       "      <td>0.847</td>\n",
       "      <td>129.873</td>\n",
       "    </tr>\n",
       "    <tr>\n",
       "      <th>9</th>\n",
       "      <td>Take Me Along</td>\n",
       "      <td>5mLStGzHrQmlRrjiOLolrk</td>\n",
       "      <td>0.792</td>\n",
       "      <td>120.002</td>\n",
       "    </tr>\n",
       "    <tr>\n",
       "      <th>10</th>\n",
       "      <td>Robot</td>\n",
       "      <td>5xJr9Tps06QYUzI6Psw0Xs</td>\n",
       "      <td>0.824</td>\n",
       "      <td>131.967</td>\n",
       "    </tr>\n",
       "    <tr>\n",
       "      <th>11</th>\n",
       "      <td>My Heart Beats For Love</td>\n",
       "      <td>6Mwmi127jAOdCK4X3xFPCX</td>\n",
       "      <td>0.855</td>\n",
       "      <td>95.991</td>\n",
       "    </tr>\n",
       "  </tbody>\n",
       "</table>\n",
       "</div>"
      ],
      "text/plain": [
       "                        name                      id  energy    tempo\n",
       "0               Liberty Walk  3icywpqJ6o39VY61BXcGQS   0.886  119.999\n",
       "1          Who Owns My Heart  4buvG5Kmstm8UMjSgUrv2X   0.805  135.908\n",
       "2             Can't Be Tamed  2r6DdaSbkbwoPzuK6NjLPn   0.910  116.980\n",
       "3   Every Rose Has Its Thorn  2GFAmPwmQByPEeWcjiR8AE   0.657  151.045\n",
       "4     Two More Lonely People  1XSJ3mgsnkT9DnhbXl29uf   0.808  128.015\n",
       "5       Forgiveness And Love  2kky2FdWijLG4YtQdtaB8p   0.709   99.245\n",
       "6         Permanent December  4OjxWxKvCxl5FltPukiiX9   0.920  124.985\n",
       "7                       Stay  0Ohi2pjBS1yak2BSgJRaIs   0.698  129.985\n",
       "8                      Scars  2VBbNPioFgkakgcp1jvmN7   0.847  129.873\n",
       "9              Take Me Along  5mLStGzHrQmlRrjiOLolrk   0.792  120.002\n",
       "10                     Robot  5xJr9Tps06QYUzI6Psw0Xs   0.824  131.967\n",
       "11   My Heart Beats For Love  6Mwmi127jAOdCK4X3xFPCX   0.855   95.991"
      ]
     },
     "execution_count": 36,
     "metadata": {},
     "output_type": "execute_result"
    }
   ],
   "source": [
    "combined_tamed_df = pd.merge(tamed_info_summ,audio_summ_tamed, how = 'inner', on = 'id')\n",
    "combined_tamed_df"
   ]
  },
  {
   "cell_type": "markdown",
   "id": "586c255c",
   "metadata": {},
   "source": [
    "## Graphs"
   ]
  },
  {
   "cell_type": "markdown",
   "id": "e1e8ba9d",
   "metadata": {},
   "source": [
    "### Histograms\n",
    " To create histograms and compare the albums' energy and tempo with one another, I created a figure and an axis and made it have two columns, this way, I can put the histograms side by side.\n",
    " \n",
    "On the first column, I got the combined information table on NoEasy and selected only the Energy feature. I also colored it blue (as the album is blue). In the same column, I selected the Energy feature from the Can't be Tamed data frame, and colored it black (as the album is black). To make it easier to understand and analyze, I made both histograms transparent with alpha. \n",
    "\n",
    "On the second column, I focused on the tempo of the albums. So I got the tempo from the NoEasy data frame (in blue too) and the tempo from the Can't be Tamed data frame (also in black). Just like in the first graph, I made them both more transparent to make it easy to analyze their relationship.\n",
    "\n",
    "I put labels and titles on the graphs to make it easier to undertand the information."
   ]
  },
  {
   "cell_type": "code",
   "execution_count": 37,
   "id": "29b721ba",
   "metadata": {},
   "outputs": [
    {
     "data": {
      "image/png": "[encoded data removed]",
      "text/plain": [
       "<Figure size 640x480 with 2 Axes>"
      ]
     },
     "metadata": {},
     "output_type": "display_data"
    }
   ],
   "source": [
    "fig1,ax1 = plt.subplots(1,2)\n",
    "ax1[0].hist(combined_noeasy_df['energy'],\n",
    "            label = 'NoEasy',\n",
    "        color='blue',\n",
    "           alpha=.5)\n",
    "ax1[0].hist(combined_tamed_df['energy'],\n",
    "            label = 'Cant be Tamed',\n",
    "        color='black',\n",
    "           alpha=.5)\n",
    "ax1[1].hist(combined_noeasy_df['tempo'],\n",
    "            label = 'NoEasy',\n",
    "        color='blue',\n",
    "           alpha=.5)\n",
    "ax1[1].hist(combined_tamed_df['tempo'],\n",
    "            label = 'Cant be Tamed',\n",
    "        color='black',\n",
    "           alpha=.5)\n",
    "\n",
    "ax1[0].set_title('Energy')\n",
    "ax1[1].set_title('Tempo')\n",
    "\n",
    "ax1[0].legend()\n",
    "ax1[1].legend()\n",
    "\n",
    "plt.show()"
   ]
  },
  {
   "cell_type": "markdown",
   "id": "883bc2f5",
   "metadata": {},
   "source": [
    "It is noticeable that Stray Kids album, NoEasy, has a large range of energy and tempo (from around 0.6 to almost 1 in energy, and from around 75 to 175 BPM). Meanwhile, Miley Cyrus album, Can't be Tamed, has either a lower or higher energy, and around 100 and 150 BPM songs. \n",
    "\n",
    "It is possible to see that in NoEasy there is at least one song in each bar range for both audio features, while Can't be Tamed songs has more two songs in the same range. The bars from both albums overlap each other in some ranges but not on all of them, showing how Miley Cyrus's songs are more focused on one style of songs than Stray Kids's songs that play around with many different styles."
   ]
  },
  {
   "cell_type": "markdown",
   "id": "94377410",
   "metadata": {},
   "source": [
    "### Scatter plots\n",
    "To analyse the relationship between energy (x) and tempo (y), scatter plots were made. A new figure and axis with two columns was created. \n",
    "\n",
    "In blue on the left column, I got the data frame on NoEasy and defined energy as x and tempo as y. On the right in black, I put the energy feature from the Can't be Tamed data frame as x as well, and tempo as y. \n",
    "\n",
    "I also inserted title and labels for the graphs to make it easier to understand. I only put label on tempo for NoEasy because the tempo label for Can't be Tamed was appearing inside NoEasy's graph."
   ]
  },
  {
   "cell_type": "code",
   "execution_count": 38,
   "id": "661954be",
   "metadata": {},
   "outputs": [
    {
     "data": {
      "image/png": "[encoded data removed]",
      "text/plain": [
       "<Figure size 640x480 with 2 Axes>"
      ]
     },
     "metadata": {},
     "output_type": "display_data"
    }
   ],
   "source": [
    "fig2,ax2 = plt.subplots(1,2)\n",
    "ax2[0].scatter(x= combined_noeasy_df['energy'],\n",
    "               y= combined_noeasy_df['tempo'],\n",
    "               color='blue',)\n",
    "ax2[1].scatter(x= combined_tamed_df['energy'],\n",
    "               y= combined_tamed_df['tempo'],\n",
    "               color='black')\n",
    "\n",
    "ax2[0].set_title('NoEasy')\n",
    "ax2[1].set_title('Cant be Tamed')\n",
    "\n",
    "ax2[0].set_xlabel('Energy')\n",
    "ax2[0].set_ylabel('Tempo')\n",
    "ax2[1].set_xlabel('Energy')\n",
    "\n",
    "plt.show()"
   ]
  },
  {
   "cell_type": "markdown",
   "id": "55b500ad",
   "metadata": {},
   "source": [
    "The x and y ranges are not the same and only looking at the markers might be misleading. However, it is possible to notice how spread Stray Kids songs are when it comes to tempo and energy, showing how they like to explore and try different combinations. Meanwhile, Miley Cyrus songs are more grouped near 130 BPM (with only 3 outliers), while the energy varies more. "
   ]
  },
  {
   "cell_type": "markdown",
   "id": "7c2c3c1f",
   "metadata": {},
   "source": [
    "### Combined Scatter Plot\n",
    "\n",
    "In order to have a better understanding on the scatter plots, the two were combined into the same plot. This way, it would be easier to see if their data has any relation or not. \n",
    "\n",
    "So, just as above, the energy is on the x-axis and the tempo is on the y-axis for both albums data frames. The colors are blue and black, respectively for NoEasy and Can't be Tamed. Now, NoEasy's markers on the graph are stars and Can't be Tamed's markers are triangles, in order to help differenciating them. Also, A title and legend were added to help on the visualization of the data. "
   ]
  },
  {
   "cell_type": "code",
   "execution_count": 39,
   "id": "f0d7616f",
   "metadata": {},
   "outputs": [
    {
     "data": {
      "image/png": "[encoded data removed]",
      "text/plain": [
       "<Figure size 640x480 with 1 Axes>"
      ]
     },
     "metadata": {},
     "output_type": "display_data"
    }
   ],
   "source": [
    "fig3,ax3 = plt.subplots()\n",
    "ax3.scatter(x=combined_noeasy_df['energy'],\n",
    "           y=combined_noeasy_df['tempo'],\n",
    "            label='NoEasy',\n",
    "           color='blue',\n",
    "           marker='*')\n",
    "ax3.scatter(x=combined_tamed_df['energy'],\n",
    "           y=combined_tamed_df['tempo'],\n",
    "            label = 'Cant be Tamed',\n",
    "           color='black',\n",
    "           marker='^')\n",
    "\n",
    "ax3.set_title('Relationship between\\nTempo and Energy')\n",
    "\n",
    "ax3.set_xlabel('Energy')\n",
    "ax3.set_ylabel('Tempo')\n",
    "\n",
    "ax3.legend()\n",
    "\n",
    "plt.show()"
   ]
  },
  {
   "cell_type": "markdown",
   "id": "cb7e89b0",
   "metadata": {},
   "source": [
    "With the two data together in a graph makes it easier to understand how different the albums are. It is noticeable that six NoEasy songs are farther from Can't be Tamed songs, as they have a lower or higher tempo, or more energy. Hence, we can see how Miley Cyrus's songs are around the middle of the graph and how Stray Kids's songs are in the middle and around on the limits of the graph."
   ]
  },
  {
   "cell_type": "markdown",
   "id": "1668458e",
   "metadata": {},
   "source": [
    "### Box Plots\n",
    "\n",
    "For the box plots, I decided to analyse only the tempo of each album. I assigned variables to the tempo of each album to be easier to refer to them along the way. I also created variables for the jitter, so the markers would not overlap. Then, I created another figure to put both box plots on each album's tempo in it. Next, I called the jitter and set a transparency to make it easier to analyze it. Finally, I put the Tempo label on the side.\n",
    "\n",
    "I put NoEasy on the left, Can't be Tamed on the right."
   ]
  },
  {
   "cell_type": "code",
   "execution_count": 40,
   "id": "29a19f46",
   "metadata": {},
   "outputs": [
    {
     "data": {
      "image/png": "[encoded data removed]",
      "text/plain": [
       "<Figure size 640x480 with 1 Axes>"
      ]
     },
     "metadata": {},
     "output_type": "display_data"
    }
   ],
   "source": [
    "noeasy_tempo = combined_noeasy_df['tempo']\n",
    "tamed_tempo = combined_tamed_df['tempo']\n",
    "noeasy_xs =[1]*len(noeasy_tempo)\n",
    "tamed_xs = [2]*len(tamed_tempo)\n",
    "noeasy_x_jitter = np.random.uniform(-.10,.10,len(noeasy_xs))\n",
    "tamed_x_jitter = np.random.uniform(-.10,.0,len(tamed_xs))\n",
    "\n",
    "\n",
    "fig4,ax4 = plt.subplots()\n",
    "ax4.boxplot(noeasy_tempo, positions=[1])\n",
    "ax4.boxplot(tamed_tempo , positions=[2])\n",
    "ax4.scatter(noeasy_xs+noeasy_x_jitter, noeasy_tempo, alpha=.5)\n",
    "ax4.scatter(tamed_xs+tamed_x_jitter, tamed_tempo,alpha=.5)\n",
    "\n",
    "ax4.set_ylabel('Tempo')\n",
    "\n",
    "\n",
    "plt.show()"
   ]
  },
  {
   "cell_type": "markdown",
   "id": "a7240bd2",
   "metadata": {},
   "source": [
    "Looking at the graphs, it is possible to notice how they both have a mean near 120-130 BPM, but it is also noticeable how Stray Kids box plot on tempo is larger than Miley Cyrus's. It is also aparent how in Can't be Tamed the songs are coloser to the mean tempo, while in Stray Kids, the songs are not that close to the mean. Apart from that, it shows how Cyrus's album there are three outliers as the majority of the songs are around 115-140 BPM and the other three are either near 100 or near 150 BPM. Meanwhile, NoEasy songs are all over the graph, from around 70 to around 180 BPM, with almost always two songs almost overlapping each other, while In Can't be Tamed there is a cluster of songs. This shows how different the tempo of these albums is."
   ]
  },
  {
   "cell_type": "markdown",
   "id": "0430889b",
   "metadata": {},
   "source": [
    "### Statistical Differences\n",
    "\n",
    "Then, also regarding both album's tempo, I calculated their statistical differences using the scipy's stats.ttest_ind()."
   ]
  },
  {
   "cell_type": "code",
   "execution_count": 41,
   "id": "51c6c40e",
   "metadata": {},
   "outputs": [],
   "source": [
    "results_albums_stats=stats.ttest_ind(noeasy_tempo, tamed_tempo)"
   ]
  },
  {
   "cell_type": "markdown",
   "id": "b83f1608",
   "metadata": {},
   "source": [
    "First I ran the statistic to know how the data from the albums overlap, and then I ran the pvalue to see how significant their relation is."
   ]
  },
  {
   "cell_type": "code",
   "execution_count": 42,
   "id": "840e5a35",
   "metadata": {},
   "outputs": [
    {
     "data": {
      "text/plain": [
       "0.021028763424134646"
      ]
     },
     "execution_count": 42,
     "metadata": {},
     "output_type": "execute_result"
    }
   ],
   "source": [
    "results_albums_stats.statistic"
   ]
  },
  {
   "cell_type": "code",
   "execution_count": 43,
   "id": "34a4292d",
   "metadata": {},
   "outputs": [
    {
     "data": {
      "text/plain": [
       "0.9834"
      ]
     },
     "execution_count": 43,
     "metadata": {},
     "output_type": "execute_result"
    }
   ],
   "source": [
    "round(results_albums_stats.pvalue,5)"
   ]
  },
  {
   "cell_type": "markdown",
   "id": "05e68f4a",
   "metadata": {},
   "source": [
    "Looking at their statistic and to the pvalue, it is possible to conclude that they do overlap a lot as the statistic is close to 0, but that the tempo of both albums are not too correlated as the pvalue should be lower than 0.05 to be a significant relation, and in this case it is 0.98. "
   ]
  },
  {
   "cell_type": "markdown",
   "id": "b9f7b470",
   "metadata": {},
   "source": [
    "## Conclusion"
   ]
  },
  {
   "cell_type": "markdown",
   "id": "9aa68f26",
   "metadata": {},
   "source": [
    "Analyzing the graphs and the statistics, it is clear how different both albums are, which confirms my hypothesis. Stray Kids songs tempo has a large range compared to Miley Cyrus's album. They so try a lot of different genres and styles, using different samples and sounds, so it is no surprise to see a graph with songs' tempos everywhere. The energy in the albums are not too different, Miley Cyrus's songs are either lower or higher energy, while Stray Kids's just vary more in almost the same range.\n",
    "\n",
    "The limitations of this report is that only two different audio features were analyzed, and to have a better idea on both albums and a deeper understanding on their characteristics, it would be crucial to analyze all album features. As well as for the box plot and the statistic analysis, only the tempo was analyzed, which is a limitation as the conclusion for the relation between the albums' energy could be more specific with further analysis. Also, Spotify defines the energy audio feature as the activity and intensity in a song, and it is analyzed from 0 to 1, which is not too specific on what is considered a high energy song. So, the limitation related to the energy of a song is how Spotify measures it, as this information comes from them and there is not much explanation on it.\n",
    "\n",
    "Another way to approach this report would be making a deeper and more complete analysis on the albums' energy as well as on other audio features. To take a step further, would be interesting to analyze other albums by the same artists, as they are both two of my favorite artists, to compare even more their music styles and audio features of their songs. Hence, for future reports on this topic, I would analyze the all of audio features to have a deeper understanding on to what extent the albums are different and how they are similar -- as they they both have a place in my favorites list. "
   ]
  }
 ],
 "metadata": {
  "kernelspec": {
   "display_name": "Python 3 (ipykernel)",
   "language": "python",
   "name": "python3"
  },
  "language_info": {
   "codemirror_mode": {
    "name": "ipython",
    "version": 3
   },
   "file_extension": ".py",
   "mimetype": "text/x-python",
   "name": "python",
   "nbconvert_exporter": "python",
   "pygments_lexer": "ipython3",
   "version": "3.11.4"
  }
 },
 "nbformat": 4,
 "nbformat_minor": 5
}
