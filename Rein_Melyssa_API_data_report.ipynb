{
 "cells": [
  {
   "cell_type": "markdown",
   "id": "6120cff3",
   "metadata": {},
   "source": [
    "# API DATA REPORT\n",
    "\n",
    "Melyssa Rein\n",
    "\n",
    "10/15/2023\n",
    "\n",
    "# Analysis of Brazilian Funk's danceability"
   ]
  },
  {
   "cell_type": "markdown",
   "id": "ee6f8210",
   "metadata": {},
   "source": [
    "![](https://volumemorto.com.br/wp-content/uploads/2020/01/CAPA-FUNK-DECADA-PORTAL-2.jpg) \n",
    "*Photo of some funk singers*\n",
    "\n",
    "The Brazilian Funk is extremelly popular in Brazil, easy to recognize, and it is always playing in parties. In the beginning, the Brazilian funk was a music generally listened by the people living in the suburbs and it was more connected to North American music, but then it started spreding all over in the country and it slowly changed into what we know nowadays. In Brazil, people usually call it \"Funk\" and there is more than one style to it, for example, \"Mega Funk\" that is more electronic. However, Funk is in its majority a danceable music genre that people cannot manage to stay still when listening to because of its beats. \n",
    "\n",
    "Due to my experience in Brazilian parties, as someone that spent almost 20 years living in Brazil and that listened to Funk all my life, my hypothesis is that Brazilian Funk will have a high danceability score as it has a contagious rhythm with beats that make people feel like dancing. Spotify API measures danceability according to the song's musical elements (such as tempo) and it can go from 0 to 1, in which the closest to 1, the more danceable it is. I believe this range can be divided into four levels of danceability: not danceable (0-0.25), not as danceable (0.251-0.5), average danceability (0.51 - 0.75), very danceable (0.751-1). I got to these numbers only by dividing the overall into quarters, as it would be easier to grasp the idea using 0 to 1. Hence, my hypothesis is that Brazilian funk will score near to 1, around 0.75 to 0.9. As I do believe there might be more danceable music genres, I don't think Brazilian Funk will hit 1. \n",
    "\n",
    "To test my hypothesis, a playlist called \"Melhores funks de todos os tempos\" (translation, *Best funk of all time*) created by Victor Pelizaro de Souza will be analized. This playlist contains famous Brazilian funk songs from many funk styles, so it will be good to analyze the danceability from this sample as they are the most known in Brazil, as well as it allows the results to consider different funk styles Brazil has and different release years - as people's tastes change along the years which can impact on types of music released. So, by making requests to the Spotify API, it will be possible to receive information on the tracks in this playlist to get their danceability. Two Spotify endpoints will be used in this analysis: the playlist endpoint to get the tracks of the playlist and their IDs, and the tracks' audio features endpoint to get their respective danceability. These are the most suitable endpoints in Spotify API because in order to submit a request for the audio features of songs and receive their danceability, it will be necessary to first get their IDs by obtaining them through submitting a request for the playlist's information. \n",
    "\n",
    "The data acquired from Spotify API is reliable in the sense that Spoity is a very known music streaming platform and part of the  information requested are facts, as when requesting the content inside the playlist, Spotify gives the name of the tracks, its duration, the artist, if the song is explicit, etc. Something than can be considered unreliable is the amount of information that Spotify lets clients have, such as, through Spotify API there is no way to get an information on how many times a song was put on replay; hence, there are information they could probably be giving, but they are not. It is also interesting to consider that the description on Spotify API of what the measurement of danceability consists of only says \"Danceability describes how suitable a track is for dancing based on a combination of musical elements including tempo, rhythm stability, beat strength, and overall regularity\" so there might be other elements included that are not disclosed; in addition, the danceability of a song can be arbitrary.\n",
    "\n",
    "Looking at the API, the only crucial limitation regarding this hypothesis and analysis is the fact that when requesting a playlists information, the limit is 100 tracks; so, the 415 track playlist sample is decreased to 100. However, it is still a good sample of songs to get an idea of the average danceability of Brazilian Funk."
   ]
  },
  {
   "cell_type": "markdown",
   "id": "1400fc14",
   "metadata": {},
   "source": [
    "## Initial Process"
   ]
  },
  {
   "cell_type": "markdown",
   "id": "0a43b418",
   "metadata": {},
   "source": [
    "It is necessary to import several packages to be able to make the requests to Spotify API and analyze the given information. "
   ]
  },
  {
   "cell_type": "code",
   "execution_count": 42,
   "id": "134408b1",
   "metadata": {},
   "outputs": [],
   "source": [
    "import requests\n",
    "import pandas as pd\n",
    "import base64\n",
    "import json\n",
    "import urllib"
   ]
  },
  {
   "cell_type": "markdown",
   "id": "d445ca43",
   "metadata": {},
   "source": [
    "Previously, a CSV file was created with the client's ID and password, as they are not information that can be displayed and shared, the file was called here so they do not have to be shown."
   ]
  },
  {
   "cell_type": "code",
   "execution_count": 43,
   "id": "dc2e3d0e",
   "metadata": {},
   "outputs": [],
   "source": [
    "Client_ID = pd.read_csv('Spotify_keys.txt')['Client_ID'].iloc[0]"
   ]
  },
  {
   "cell_type": "code",
   "execution_count": 44,
   "id": "55fe1a30",
   "metadata": {},
   "outputs": [],
   "source": [
    "Client_Secret = pd.read_csv('Spotify_keys.txt')['Client_Secret'].iloc[0]"
   ]
  },
  {
   "cell_type": "markdown",
   "id": "689cd0c0",
   "metadata": {},
   "source": [
    "Then, the both of them were encoded using base64 and they were used to transfer this information to Spotify API and request a session key. This key allows me to actually get information from Spotify API, if not for it, I would not be able to get any information on the playlist. Also, if the status code of the request for a session key is 200, it means it was successful - which means I can proceed to request information from the API."
   ]
  },
  {
   "cell_type": "code",
   "execution_count": 45,
   "id": "0cc37983",
   "metadata": {},
   "outputs": [],
   "source": [
    "client_cred = base64.b64encode(str(Client_ID + \":\" + Client_Secret).encode('ascii'))"
   ]
  },
  {
   "cell_type": "code",
   "execution_count": 46,
   "id": "93da1624",
   "metadata": {},
   "outputs": [],
   "source": [
    "headers = {\"Authorization\": \"Basic {}\".format(client_cred.decode('ascii'))}"
   ]
  },
  {
   "cell_type": "code",
   "execution_count": 47,
   "id": "01a476e0",
   "metadata": {},
   "outputs": [],
   "source": [
    "payload = {'grant_type' : 'client_credentials'}\n",
    "url = 'https://accounts.spotify.com/api/token'"
   ]
  },
  {
   "cell_type": "code",
   "execution_count": 48,
   "id": "6e550f50",
   "metadata": {},
   "outputs": [],
   "source": [
    "session_key_response = requests.post(url = url,data = payload, headers = headers)"
   ]
  },
  {
   "cell_type": "code",
   "execution_count": 49,
   "id": "e590b789",
   "metadata": {},
   "outputs": [
    {
     "data": {
      "text/plain": [
       "200"
      ]
     },
     "execution_count": 49,
     "metadata": {},
     "output_type": "execute_result"
    }
   ],
   "source": [
    "session_key_response.status_code"
   ]
  },
  {
   "cell_type": "code",
   "execution_count": 50,
   "id": "cb2b6ac4",
   "metadata": {},
   "outputs": [],
   "source": [
    "session_headers = {\"Authorization\": \"Bearer {}\".format(session_key_response.json()['access_token'])}"
   ]
  },
  {
   "cell_type": "markdown",
   "id": "f6193c7b",
   "metadata": {},
   "source": [
    "## Analysis"
   ]
  },
  {
   "cell_type": "markdown",
   "id": "dcc047a6",
   "metadata": {},
   "source": [
    "Now, using the playlist endpoint from Spotify API and the playlist ID taken from the playlist URL, I was able to request and get information on the content of the \"Melhores funks de todos os tempos\" playlist - more specifically of the first 100 tracks of it."
   ]
  },
  {
   "cell_type": "code",
   "execution_count": 51,
   "id": "276fb027",
   "metadata": {},
   "outputs": [],
   "source": [
    "playlist_id = '1rcA66nSyWnPAebLekg3XF'"
   ]
  },
  {
   "cell_type": "code",
   "execution_count": 52,
   "id": "704df056",
   "metadata": {},
   "outputs": [],
   "source": [
    "playlist_url = 'https://api.spotify.com/v1/playlists/{}'.format(playlist_id)"
   ]
  },
  {
   "cell_type": "code",
   "execution_count": 53,
   "id": "fb1e902a",
   "metadata": {},
   "outputs": [],
   "source": [
    "response = requests.get(url = playlist_url, headers = session_headers)"
   ]
  },
  {
   "cell_type": "markdown",
   "id": "73db5072",
   "metadata": {},
   "source": [
    "With the response of the request transformed into json, I was able to get the keys of the dictionary in order to create a data frame with the given information. Then, I would be able to have a look at everything and choose the crucial data for the analysis. I decided to only show the top 5 results, as what matter at that moment was having a clearer look at the information."
   ]
  },
  {
   "cell_type": "code",
   "execution_count": 54,
   "id": "2d7a40a3",
   "metadata": {},
   "outputs": [],
   "source": [
    "data_playlist = response.json() "
   ]
  },
  {
   "cell_type": "code",
   "execution_count": 55,
   "id": "06296ae4",
   "metadata": {},
   "outputs": [
    {
     "data": {
      "text/plain": [
       "dict_keys(['collaborative', 'description', 'external_urls', 'followers', 'href', 'id', 'images', 'name', 'owner', 'primary_color', 'public', 'snapshot_id', 'tracks', 'type', 'uri'])"
      ]
     },
     "execution_count": 55,
     "metadata": {},
     "output_type": "execute_result"
    }
   ],
   "source": [
    "data_playlist.keys()"
   ]
  },
  {
   "cell_type": "code",
   "execution_count": 56,
   "id": "f53137bc",
   "metadata": {},
   "outputs": [
    {
     "data": {
      "text/plain": [
       "dict_keys(['href', 'items', 'limit', 'next', 'offset', 'previous', 'total'])"
      ]
     },
     "execution_count": 56,
     "metadata": {},
     "output_type": "execute_result"
    }
   ],
   "source": [
    "data_playlist ['tracks'].keys()"
   ]
  },
  {
   "cell_type": "code",
   "execution_count": 58,
   "id": "5fc3241b",
   "metadata": {
    "scrolled": true
   },
   "outputs": [
    {
     "data": {
      "text/html": [
       "<div>\n",
       "<style scoped>\n",
       "    .dataframe tbody tr th:only-of-type {\n",
       "        vertical-align: middle;\n",
       "    }\n",
       "\n",
       "    .dataframe tbody tr th {\n",
       "        vertical-align: top;\n",
       "    }\n",
       "\n",
       "    .dataframe thead th {\n",
       "        text-align: right;\n",
       "    }\n",
       "</style>\n",
       "<table border=\"1\" class=\"dataframe\">\n",
       "  <thead>\n",
       "    <tr style=\"text-align: right;\">\n",
       "      <th></th>\n",
       "      <th>album</th>\n",
       "      <th>artists</th>\n",
       "      <th>available_markets</th>\n",
       "      <th>disc_number</th>\n",
       "      <th>duration_ms</th>\n",
       "      <th>episode</th>\n",
       "      <th>explicit</th>\n",
       "      <th>external_ids</th>\n",
       "      <th>external_urls</th>\n",
       "      <th>href</th>\n",
       "      <th>id</th>\n",
       "      <th>is_local</th>\n",
       "      <th>name</th>\n",
       "      <th>popularity</th>\n",
       "      <th>preview_url</th>\n",
       "      <th>track</th>\n",
       "      <th>track_number</th>\n",
       "      <th>type</th>\n",
       "      <th>uri</th>\n",
       "    </tr>\n",
       "  </thead>\n",
       "  <tbody>\n",
       "    <tr>\n",
       "      <th>0</th>\n",
       "      <td>{'album_type': 'single', 'artists': [{'externa...</td>\n",
       "      <td>[{'external_urls': {'spotify': 'https://open.s...</td>\n",
       "      <td>[BR]</td>\n",
       "      <td>1</td>\n",
       "      <td>155550</td>\n",
       "      <td>False</td>\n",
       "      <td>True</td>\n",
       "      <td>{'isrc': 'US7VG1719220'}</td>\n",
       "      <td>{'spotify': 'https://open.spotify.com/track/7K...</td>\n",
       "      <td>https://api.spotify.com/v1/tracks/7KBfjlQ85Fqs...</td>\n",
       "      <td>7KBfjlQ85Fqs2MCCvXSW0c</td>\n",
       "      <td>False</td>\n",
       "      <td>Bum Bum Tam Tam</td>\n",
       "      <td>57</td>\n",
       "      <td>None</td>\n",
       "      <td>True</td>\n",
       "      <td>1</td>\n",
       "      <td>track</td>\n",
       "      <td>spotify:track:7KBfjlQ85Fqs2MCCvXSW0c</td>\n",
       "    </tr>\n",
       "    <tr>\n",
       "      <th>1</th>\n",
       "      <td>{'album_type': 'compilation', 'artists': [{'ex...</td>\n",
       "      <td>[{'external_urls': {'spotify': 'https://open.s...</td>\n",
       "      <td>[]</td>\n",
       "      <td>1</td>\n",
       "      <td>209013</td>\n",
       "      <td>False</td>\n",
       "      <td>False</td>\n",
       "      <td>{'isrc': 'FR0Z50003566'}</td>\n",
       "      <td>{'spotify': 'https://open.spotify.com/track/2P...</td>\n",
       "      <td>https://api.spotify.com/v1/tracks/2PSsjdKe42nE...</td>\n",
       "      <td>2PSsjdKe42nE7gZYA1c6fu</td>\n",
       "      <td>False</td>\n",
       "      <td>Rap glamurosa</td>\n",
       "      <td>0</td>\n",
       "      <td>None</td>\n",
       "      <td>True</td>\n",
       "      <td>15</td>\n",
       "      <td>track</td>\n",
       "      <td>spotify:track:2PSsjdKe42nE7gZYA1c6fu</td>\n",
       "    </tr>\n",
       "    <tr>\n",
       "      <th>2</th>\n",
       "      <td>{'album_type': 'album', 'artists': [{'external...</td>\n",
       "      <td>[{'external_urls': {'spotify': 'https://open.s...</td>\n",
       "      <td>[AR, AU, AT, BE, BO, BR, BG, CA, CL, CO, CR, C...</td>\n",
       "      <td>1</td>\n",
       "      <td>154026</td>\n",
       "      <td>False</td>\n",
       "      <td>False</td>\n",
       "      <td>{'isrc': 'BXMOP1400007'}</td>\n",
       "      <td>{'spotify': 'https://open.spotify.com/track/1O...</td>\n",
       "      <td>https://api.spotify.com/v1/tracks/1OtZIaJBXo3P...</td>\n",
       "      <td>1OtZIaJBXo3Pe6nfaMsjKT</td>\n",
       "      <td>False</td>\n",
       "      <td>Na Ponta Ela Fica</td>\n",
       "      <td>63</td>\n",
       "      <td>https://p.scdn.co/mp3-preview/a2cec7d61d8692ff...</td>\n",
       "      <td>True</td>\n",
       "      <td>7</td>\n",
       "      <td>track</td>\n",
       "      <td>spotify:track:1OtZIaJBXo3Pe6nfaMsjKT</td>\n",
       "    </tr>\n",
       "    <tr>\n",
       "      <th>3</th>\n",
       "      <td>{'album_type': 'single', 'artists': [{'externa...</td>\n",
       "      <td>[{'external_urls': {'spotify': 'https://open.s...</td>\n",
       "      <td>[AR, AU, AT, BE, BO, BR, BG, CA, CL, CO, CR, C...</td>\n",
       "      <td>1</td>\n",
       "      <td>162053</td>\n",
       "      <td>False</td>\n",
       "      <td>False</td>\n",
       "      <td>{'isrc': 'BXG6R1700002'}</td>\n",
       "      <td>{'spotify': 'https://open.spotify.com/track/6Q...</td>\n",
       "      <td>https://api.spotify.com/v1/tracks/6Q4foUefrAyC...</td>\n",
       "      <td>6Q4foUefrAyCt8VxJFML56</td>\n",
       "      <td>False</td>\n",
       "      <td>Olha A Explosão</td>\n",
       "      <td>74</td>\n",
       "      <td>None</td>\n",
       "      <td>True</td>\n",
       "      <td>1</td>\n",
       "      <td>track</td>\n",
       "      <td>spotify:track:6Q4foUefrAyCt8VxJFML56</td>\n",
       "    </tr>\n",
       "    <tr>\n",
       "      <th>4</th>\n",
       "      <td>{'album_type': 'album', 'artists': [{'external...</td>\n",
       "      <td>[{'external_urls': {'spotify': 'https://open.s...</td>\n",
       "      <td>[]</td>\n",
       "      <td>1</td>\n",
       "      <td>164048</td>\n",
       "      <td>False</td>\n",
       "      <td>True</td>\n",
       "      <td>{'isrc': 'QM6P41550310'}</td>\n",
       "      <td>{'spotify': 'https://open.spotify.com/track/3D...</td>\n",
       "      <td>https://api.spotify.com/v1/tracks/3DMnCzBn8jiz...</td>\n",
       "      <td>3DMnCzBn8jizeatq0ll5Bm</td>\n",
       "      <td>False</td>\n",
       "      <td>Vou Passar Cerol Na Mào</td>\n",
       "      <td>0</td>\n",
       "      <td>None</td>\n",
       "      <td>True</td>\n",
       "      <td>11</td>\n",
       "      <td>track</td>\n",
       "      <td>spotify:track:3DMnCzBn8jizeatq0ll5Bm</td>\n",
       "    </tr>\n",
       "  </tbody>\n",
       "</table>\n",
       "</div>"
      ],
      "text/plain": [
       "                                               album  \\\n",
       "0  {'album_type': 'single', 'artists': [{'externa...   \n",
       "1  {'album_type': 'compilation', 'artists': [{'ex...   \n",
       "2  {'album_type': 'album', 'artists': [{'external...   \n",
       "3  {'album_type': 'single', 'artists': [{'externa...   \n",
       "4  {'album_type': 'album', 'artists': [{'external...   \n",
       "\n",
       "                                             artists  \\\n",
       "0  [{'external_urls': {'spotify': 'https://open.s...   \n",
       "1  [{'external_urls': {'spotify': 'https://open.s...   \n",
       "2  [{'external_urls': {'spotify': 'https://open.s...   \n",
       "3  [{'external_urls': {'spotify': 'https://open.s...   \n",
       "4  [{'external_urls': {'spotify': 'https://open.s...   \n",
       "\n",
       "                                   available_markets  disc_number  \\\n",
       "0                                               [BR]            1   \n",
       "1                                                 []            1   \n",
       "2  [AR, AU, AT, BE, BO, BR, BG, CA, CL, CO, CR, C...            1   \n",
       "3  [AR, AU, AT, BE, BO, BR, BG, CA, CL, CO, CR, C...            1   \n",
       "4                                                 []            1   \n",
       "\n",
       "   duration_ms  episode  explicit              external_ids  \\\n",
       "0       155550    False      True  {'isrc': 'US7VG1719220'}   \n",
       "1       209013    False     False  {'isrc': 'FR0Z50003566'}   \n",
       "2       154026    False     False  {'isrc': 'BXMOP1400007'}   \n",
       "3       162053    False     False  {'isrc': 'BXG6R1700002'}   \n",
       "4       164048    False      True  {'isrc': 'QM6P41550310'}   \n",
       "\n",
       "                                       external_urls  \\\n",
       "0  {'spotify': 'https://open.spotify.com/track/7K...   \n",
       "1  {'spotify': 'https://open.spotify.com/track/2P...   \n",
       "2  {'spotify': 'https://open.spotify.com/track/1O...   \n",
       "3  {'spotify': 'https://open.spotify.com/track/6Q...   \n",
       "4  {'spotify': 'https://open.spotify.com/track/3D...   \n",
       "\n",
       "                                                href                      id  \\\n",
       "0  https://api.spotify.com/v1/tracks/7KBfjlQ85Fqs...  7KBfjlQ85Fqs2MCCvXSW0c   \n",
       "1  https://api.spotify.com/v1/tracks/2PSsjdKe42nE...  2PSsjdKe42nE7gZYA1c6fu   \n",
       "2  https://api.spotify.com/v1/tracks/1OtZIaJBXo3P...  1OtZIaJBXo3Pe6nfaMsjKT   \n",
       "3  https://api.spotify.com/v1/tracks/6Q4foUefrAyC...  6Q4foUefrAyCt8VxJFML56   \n",
       "4  https://api.spotify.com/v1/tracks/3DMnCzBn8jiz...  3DMnCzBn8jizeatq0ll5Bm   \n",
       "\n",
       "   is_local                     name  popularity  \\\n",
       "0     False          Bum Bum Tam Tam          57   \n",
       "1     False            Rap glamurosa           0   \n",
       "2     False        Na Ponta Ela Fica          63   \n",
       "3     False          Olha A Explosão          74   \n",
       "4     False  Vou Passar Cerol Na Mào           0   \n",
       "\n",
       "                                         preview_url  track  track_number  \\\n",
       "0                                               None   True             1   \n",
       "1                                               None   True            15   \n",
       "2  https://p.scdn.co/mp3-preview/a2cec7d61d8692ff...   True             7   \n",
       "3                                               None   True             1   \n",
       "4                                               None   True            11   \n",
       "\n",
       "    type                                   uri  \n",
       "0  track  spotify:track:7KBfjlQ85Fqs2MCCvXSW0c  \n",
       "1  track  spotify:track:2PSsjdKe42nE7gZYA1c6fu  \n",
       "2  track  spotify:track:1OtZIaJBXo3Pe6nfaMsjKT  \n",
       "3  track  spotify:track:6Q4foUefrAyCt8VxJFML56  \n",
       "4  track  spotify:track:3DMnCzBn8jizeatq0ll5Bm  "
      ]
     },
     "execution_count": 58,
     "metadata": {},
     "output_type": "execute_result"
    }
   ],
   "source": [
    "playlist_df = pd.DataFrame([x['track'] for x in data_playlist['tracks']['items']])\n",
    "playlist_df.head() "
   ]
  },
  {
   "cell_type": "markdown",
   "id": "8359f599",
   "metadata": {},
   "source": [
    "As the only important information was the name of the song and the ID, I decided to create a summarized data frame. I decided not to include artists because it would not be necessary for the analysis, as the focus is the danceability of the songs and who it belongs to does not affect it. I also decided to only display the top 5 in this table as I would not analyse it yet."
   ]
  },
  {
   "cell_type": "code",
   "execution_count": 59,
   "id": "4a74ab06",
   "metadata": {},
   "outputs": [
    {
     "data": {
      "text/html": [
       "<div>\n",
       "<style scoped>\n",
       "    .dataframe tbody tr th:only-of-type {\n",
       "        vertical-align: middle;\n",
       "    }\n",
       "\n",
       "    .dataframe tbody tr th {\n",
       "        vertical-align: top;\n",
       "    }\n",
       "\n",
       "    .dataframe thead th {\n",
       "        text-align: right;\n",
       "    }\n",
       "</style>\n",
       "<table border=\"1\" class=\"dataframe\">\n",
       "  <thead>\n",
       "    <tr style=\"text-align: right;\">\n",
       "      <th></th>\n",
       "      <th>name</th>\n",
       "      <th>id</th>\n",
       "    </tr>\n",
       "  </thead>\n",
       "  <tbody>\n",
       "    <tr>\n",
       "      <th>0</th>\n",
       "      <td>Bum Bum Tam Tam</td>\n",
       "      <td>7KBfjlQ85Fqs2MCCvXSW0c</td>\n",
       "    </tr>\n",
       "    <tr>\n",
       "      <th>1</th>\n",
       "      <td>Rap glamurosa</td>\n",
       "      <td>2PSsjdKe42nE7gZYA1c6fu</td>\n",
       "    </tr>\n",
       "    <tr>\n",
       "      <th>2</th>\n",
       "      <td>Na Ponta Ela Fica</td>\n",
       "      <td>1OtZIaJBXo3Pe6nfaMsjKT</td>\n",
       "    </tr>\n",
       "    <tr>\n",
       "      <th>3</th>\n",
       "      <td>Olha A Explosão</td>\n",
       "      <td>6Q4foUefrAyCt8VxJFML56</td>\n",
       "    </tr>\n",
       "    <tr>\n",
       "      <th>4</th>\n",
       "      <td>Vou Passar Cerol Na Mào</td>\n",
       "      <td>3DMnCzBn8jizeatq0ll5Bm</td>\n",
       "    </tr>\n",
       "  </tbody>\n",
       "</table>\n",
       "</div>"
      ],
      "text/plain": [
       "                      name                      id\n",
       "0          Bum Bum Tam Tam  7KBfjlQ85Fqs2MCCvXSW0c\n",
       "1            Rap glamurosa  2PSsjdKe42nE7gZYA1c6fu\n",
       "2        Na Ponta Ela Fica  1OtZIaJBXo3Pe6nfaMsjKT\n",
       "3          Olha A Explosão  6Q4foUefrAyCt8VxJFML56\n",
       "4  Vou Passar Cerol Na Mào  3DMnCzBn8jizeatq0ll5Bm"
      ]
     },
     "execution_count": 59,
     "metadata": {},
     "output_type": "execute_result"
    }
   ],
   "source": [
    "playlist_summ = playlist_df[['name','id']]\n",
    "playlist_summ.head()"
   ]
  },
  {
   "cell_type": "markdown",
   "id": "5d6fdbdf",
   "metadata": {},
   "source": [
    "Then, in order to request the audio featues of the tracks, it is necessery to join the IDs by a comma. After that, the request using the tracks' audio features endpoint can be made. And just like before, if there is a 200 status code, the request was successful."
   ]
  },
  {
   "cell_type": "code",
   "execution_count": 60,
   "id": "b388eac3",
   "metadata": {},
   "outputs": [
    {
     "data": {
      "text/plain": [
       "'7KBfjlQ85Fqs2MCCvXSW0c,2PSsjdKe42nE7gZYA1c6fu,1OtZIaJBXo3Pe6nfaMsjKT,6Q4foUefrAyCt8VxJFML56,3DMnCzBn8jizeatq0ll5Bm,0EPxmvsG1BY5td4aTOkWBF,2V60nTDW7OtktRlqBfjFj1,6AaoEX192rJ6o3UFwG43sV,4FzmvHmoFXV4EFctf0o5YX,5oNdTrafZ0joNCikz1Vdjd,6cEJheMNRySY0kBB31jtdk,7FiIQXpIeLo3ITfGGpb8PB,3vSp8nnsu8xgMMjtzrtBi3,3Hb9kUdm4yf839Fle4RIdT,3ao5U0ksMLvgSoJqOpsgmv,2ZCLbGsDB89u7DsxQsVt9m,0WnbxhaRe5fg012TcDxwWj,6tuzPD1zPPvwMbGiD0TBay,3AZYWk2RaXnYBMbWvmInnc,66f34yT1LgVr5JhBF7c5Ck,7DRP2VOMpy1rrk3iYFLCW9,43t1aOJd9FtIV3hB0QkPi3,4aAq1afusFG6jRiOSHQZvN,4BjPsq3MXBNo4Qxg40igEr,0dCwmf59BqqIAXvw9PRsGG,1xFtF3Zo6d7CJQfcgsPbQZ,3x7oHnRfCLUUNftSowFOqo,4eZg3l8x5aMvgwsRHcZuIC,6OmKF6WW3eQtZzGQ4hDSOX,3xRaXAOFz03X86oWrDrW9Q,6Y0Lah5ZRbCZzNFcOrTN1o,480o64VmNvWcwzCg74VUxW,1NPWiFacYL1Db5j86Sxu6n,3zd8GrqInpxh3CWsEUAUqO,0Qjv8p8vPKDBJKuB9aBmpN,4SCH5CuivFcShLpTg8lYOf,3TUiw7KuX3j4VTvbS8qKe5,0P3k6Jipqv1UWX0a4GmUuj,1zhfU6YXa2pXUAQdG1NvBZ,2neRyPOj9hTCsl79GxFb2D,0lNSjlkUnSjuXOcOn2BNun,3pM81OKNrV6d2zJb76nQ6M,5HB5EU2P1caxud7rixXKCl,7lzp2TKcCLt3eUvpm1SoHm,0nl6IxtXJ5IXHx6VorcEUs,4Vs1dImvvhcHyZMVO486D4,6cbZb9mVAc5s8HtwklLoI0,5XRtwljsug3r3XOBy9Bndu,3hIFGEywPETgcaxrTTt2lD,5ae1kVyqxJUaiJEmdtk4pE,1LTxGBL6yKtfmW3K8EvbSY,3Bjjfv0UITE5tsERLD7AGz,3UsBpSIBkAw5LAptjmPDRP,0fhtcHvPEFh7hVjIE2YiSQ,2W0hwZYvkXdHwKFKNXwVoz,7HwFhxqkr7Oe62LbuaoqQr,3ekIJ1ygOjF30MbP4ZkXQu,2eJN6yDrfsFFWlVlROXpka,1yupGAVfG7OiLPmrPefY0R,6umlCZ2KtpEsgj3QpHWAWz,2pYvvdAfaVB7oMGLaWsHN8,4gvePWCd0GfkC40QshflUy,28AnQ0p98RFzNGcVqjd3gU,26Vmg97Pv0MaxIdKsBrXTq,2xTaOIpC4sKmk9iusmRIFV,1wkD6Od5pKgy4oGEmNHPEW,22nULzmEkvcQ9hyMabLVAG,7ad8Dl0dVmj6i3hfRxUKoD,4XxSFoquLvpLnUXQ6bxMG1,1FZRLPtVdGN01YKtj1IhG4,50utSBcbSY4KpZiRYMkBXY,1Wsyt5It2PYnht0aDYcNyR,5J8WfEOVhrAEL7bBVhkaAM,0cdzCblUzNVtmvZ23aqHOf,0K1oCudr2sTfkuNaFL1Dyo,7AD7hNwGOOSRe33QtnyprD,0dCSO6FBTxS1D2uwoH5vJA,0TdkIAktuVE8htoDWKlYRc,6BAQQOXzjEU8BAjmrTXwQ4,58nZQatguahHX6zoKcyE6m,3xlJbfk755e10kyB7mqGlg,3tEJLuIL9J2Uv4YiBXRkUg,4PYAe64w5zHrhKV4sEWLQx,1mPRBPKwtwyJo00rPu73hk,1wNfqzFyu1ryYNJ1Wc8dSb,35D39C3R31ArmKHWBHLFIk,4FWc4riVdgHEHYagCcaCY4,6yR5PyWyLojF51m43rmGqo,2mCFoazFUiXdl7H9y1fKVJ,7eCOllUpAIqVoIFim112pv,4bVb1ZG6c6xUj1lay17LIb,24L4MaOvF7sH4GUX8U5AYz,21lNVQ20obqqiUJhC3FbKR,4Z2reAeO4DpQFAEesSnM76,2WT3Op6vBSXIvVZ6pLJxf4,23GNURqoWUmIftCCBAqNQk,6gpxiStJxW6zF5PTZzmgkK,4b4J6n49wxGujICYhMk9RR,5nAGjbR90wIhwZSADEB2qi,2Z01ATYwBBPafczmVmrxXP'"
      ]
     },
     "execution_count": 60,
     "metadata": {},
     "output_type": "execute_result"
    }
   ],
   "source": [
    "','.join(list(playlist_summ['id']))"
   ]
  },
  {
   "cell_type": "code",
   "execution_count": 61,
   "id": "e035d2b6",
   "metadata": {},
   "outputs": [],
   "source": [
    "audio_features_url = 'https://api.spotify.com/v1/audio-features?ids={}'.format(','.join(list(playlist_summ['id'])))"
   ]
  },
  {
   "cell_type": "code",
   "execution_count": 62,
   "id": "70eddc02",
   "metadata": {},
   "outputs": [],
   "source": [
    "response_audio = requests.get(url = audio_features_url, headers = session_headers)"
   ]
  },
  {
   "cell_type": "code",
   "execution_count": 63,
   "id": "684c2560",
   "metadata": {},
   "outputs": [
    {
     "data": {
      "text/plain": [
       "200"
      ]
     },
     "execution_count": 63,
     "metadata": {},
     "output_type": "execute_result"
    }
   ],
   "source": [
    "response_audio.status_code"
   ]
  },
  {
   "cell_type": "markdown",
   "id": "c7b9069b",
   "metadata": {},
   "source": [
    "Just as I did previously, I turned the file into a json file. Then, I created a data frame for this file and displayed only the top 5 in order to have a better look at the information it contains."
   ]
  },
  {
   "cell_type": "code",
   "execution_count": 64,
   "id": "d366b38a",
   "metadata": {},
   "outputs": [],
   "source": [
    "audio = response_audio.json()"
   ]
  },
  {
   "cell_type": "code",
   "execution_count": 65,
   "id": "59c9a13f",
   "metadata": {},
   "outputs": [
    {
     "data": {
      "text/html": [
       "<div>\n",
       "<style scoped>\n",
       "    .dataframe tbody tr th:only-of-type {\n",
       "        vertical-align: middle;\n",
       "    }\n",
       "\n",
       "    .dataframe tbody tr th {\n",
       "        vertical-align: top;\n",
       "    }\n",
       "\n",
       "    .dataframe thead th {\n",
       "        text-align: right;\n",
       "    }\n",
       "</style>\n",
       "<table border=\"1\" class=\"dataframe\">\n",
       "  <thead>\n",
       "    <tr style=\"text-align: right;\">\n",
       "      <th></th>\n",
       "      <th>danceability</th>\n",
       "      <th>energy</th>\n",
       "      <th>key</th>\n",
       "      <th>loudness</th>\n",
       "      <th>mode</th>\n",
       "      <th>speechiness</th>\n",
       "      <th>acousticness</th>\n",
       "      <th>instrumentalness</th>\n",
       "      <th>liveness</th>\n",
       "      <th>valence</th>\n",
       "      <th>tempo</th>\n",
       "      <th>type</th>\n",
       "      <th>id</th>\n",
       "      <th>uri</th>\n",
       "      <th>track_href</th>\n",
       "      <th>analysis_url</th>\n",
       "      <th>duration_ms</th>\n",
       "      <th>time_signature</th>\n",
       "    </tr>\n",
       "  </thead>\n",
       "  <tbody>\n",
       "    <tr>\n",
       "      <th>0</th>\n",
       "      <td>0.957</td>\n",
       "      <td>0.667</td>\n",
       "      <td>10</td>\n",
       "      <td>-5.353</td>\n",
       "      <td>0</td>\n",
       "      <td>0.0856</td>\n",
       "      <td>0.8260</td>\n",
       "      <td>0.020500</td>\n",
       "      <td>0.1790</td>\n",
       "      <td>0.556</td>\n",
       "      <td>132.010</td>\n",
       "      <td>audio_features</td>\n",
       "      <td>7KBfjlQ85Fqs2MCCvXSW0c</td>\n",
       "      <td>spotify:track:7KBfjlQ85Fqs2MCCvXSW0c</td>\n",
       "      <td>https://api.spotify.com/v1/tracks/7KBfjlQ85Fqs...</td>\n",
       "      <td>https://api.spotify.com/v1/audio-analysis/7KBf...</td>\n",
       "      <td>155550</td>\n",
       "      <td>4</td>\n",
       "    </tr>\n",
       "    <tr>\n",
       "      <th>1</th>\n",
       "      <td>0.812</td>\n",
       "      <td>0.796</td>\n",
       "      <td>7</td>\n",
       "      <td>-6.322</td>\n",
       "      <td>1</td>\n",
       "      <td>0.0380</td>\n",
       "      <td>0.0933</td>\n",
       "      <td>0.000603</td>\n",
       "      <td>0.1220</td>\n",
       "      <td>0.960</td>\n",
       "      <td>130.061</td>\n",
       "      <td>audio_features</td>\n",
       "      <td>2PSsjdKe42nE7gZYA1c6fu</td>\n",
       "      <td>spotify:track:2PSsjdKe42nE7gZYA1c6fu</td>\n",
       "      <td>https://api.spotify.com/v1/tracks/2PSsjdKe42nE...</td>\n",
       "      <td>https://api.spotify.com/v1/audio-analysis/2PSs...</td>\n",
       "      <td>209013</td>\n",
       "      <td>4</td>\n",
       "    </tr>\n",
       "    <tr>\n",
       "      <th>2</th>\n",
       "      <td>0.843</td>\n",
       "      <td>0.569</td>\n",
       "      <td>7</td>\n",
       "      <td>-10.713</td>\n",
       "      <td>1</td>\n",
       "      <td>0.2780</td>\n",
       "      <td>0.2880</td>\n",
       "      <td>0.000088</td>\n",
       "      <td>0.0643</td>\n",
       "      <td>0.947</td>\n",
       "      <td>95.075</td>\n",
       "      <td>audio_features</td>\n",
       "      <td>1OtZIaJBXo3Pe6nfaMsjKT</td>\n",
       "      <td>spotify:track:1OtZIaJBXo3Pe6nfaMsjKT</td>\n",
       "      <td>https://api.spotify.com/v1/tracks/1OtZIaJBXo3P...</td>\n",
       "      <td>https://api.spotify.com/v1/audio-analysis/1OtZ...</td>\n",
       "      <td>154027</td>\n",
       "      <td>4</td>\n",
       "    </tr>\n",
       "    <tr>\n",
       "      <th>3</th>\n",
       "      <td>0.778</td>\n",
       "      <td>0.635</td>\n",
       "      <td>6</td>\n",
       "      <td>-2.892</td>\n",
       "      <td>1</td>\n",
       "      <td>0.1120</td>\n",
       "      <td>0.1070</td>\n",
       "      <td>0.000000</td>\n",
       "      <td>0.0608</td>\n",
       "      <td>0.379</td>\n",
       "      <td>90.008</td>\n",
       "      <td>audio_features</td>\n",
       "      <td>6Q4foUefrAyCt8VxJFML56</td>\n",
       "      <td>spotify:track:6Q4foUefrAyCt8VxJFML56</td>\n",
       "      <td>https://api.spotify.com/v1/tracks/6Q4foUefrAyC...</td>\n",
       "      <td>https://api.spotify.com/v1/audio-analysis/6Q4f...</td>\n",
       "      <td>162053</td>\n",
       "      <td>4</td>\n",
       "    </tr>\n",
       "    <tr>\n",
       "      <th>4</th>\n",
       "      <td>0.959</td>\n",
       "      <td>0.789</td>\n",
       "      <td>6</td>\n",
       "      <td>-5.762</td>\n",
       "      <td>0</td>\n",
       "      <td>0.2690</td>\n",
       "      <td>0.0849</td>\n",
       "      <td>0.000120</td>\n",
       "      <td>0.0888</td>\n",
       "      <td>0.675</td>\n",
       "      <td>126.873</td>\n",
       "      <td>audio_features</td>\n",
       "      <td>3DMnCzBn8jizeatq0ll5Bm</td>\n",
       "      <td>spotify:track:3DMnCzBn8jizeatq0ll5Bm</td>\n",
       "      <td>https://api.spotify.com/v1/tracks/3DMnCzBn8jiz...</td>\n",
       "      <td>https://api.spotify.com/v1/audio-analysis/3DMn...</td>\n",
       "      <td>164049</td>\n",
       "      <td>4</td>\n",
       "    </tr>\n",
       "  </tbody>\n",
       "</table>\n",
       "</div>"
      ],
      "text/plain": [
       "   danceability  energy  key  loudness  mode  speechiness  acousticness  \\\n",
       "0         0.957   0.667   10    -5.353     0       0.0856        0.8260   \n",
       "1         0.812   0.796    7    -6.322     1       0.0380        0.0933   \n",
       "2         0.843   0.569    7   -10.713     1       0.2780        0.2880   \n",
       "3         0.778   0.635    6    -2.892     1       0.1120        0.1070   \n",
       "4         0.959   0.789    6    -5.762     0       0.2690        0.0849   \n",
       "\n",
       "   instrumentalness  liveness  valence    tempo            type  \\\n",
       "0          0.020500    0.1790    0.556  132.010  audio_features   \n",
       "1          0.000603    0.1220    0.960  130.061  audio_features   \n",
       "2          0.000088    0.0643    0.947   95.075  audio_features   \n",
       "3          0.000000    0.0608    0.379   90.008  audio_features   \n",
       "4          0.000120    0.0888    0.675  126.873  audio_features   \n",
       "\n",
       "                       id                                   uri  \\\n",
       "0  7KBfjlQ85Fqs2MCCvXSW0c  spotify:track:7KBfjlQ85Fqs2MCCvXSW0c   \n",
       "1  2PSsjdKe42nE7gZYA1c6fu  spotify:track:2PSsjdKe42nE7gZYA1c6fu   \n",
       "2  1OtZIaJBXo3Pe6nfaMsjKT  spotify:track:1OtZIaJBXo3Pe6nfaMsjKT   \n",
       "3  6Q4foUefrAyCt8VxJFML56  spotify:track:6Q4foUefrAyCt8VxJFML56   \n",
       "4  3DMnCzBn8jizeatq0ll5Bm  spotify:track:3DMnCzBn8jizeatq0ll5Bm   \n",
       "\n",
       "                                          track_href  \\\n",
       "0  https://api.spotify.com/v1/tracks/7KBfjlQ85Fqs...   \n",
       "1  https://api.spotify.com/v1/tracks/2PSsjdKe42nE...   \n",
       "2  https://api.spotify.com/v1/tracks/1OtZIaJBXo3P...   \n",
       "3  https://api.spotify.com/v1/tracks/6Q4foUefrAyC...   \n",
       "4  https://api.spotify.com/v1/tracks/3DMnCzBn8jiz...   \n",
       "\n",
       "                                        analysis_url  duration_ms  \\\n",
       "0  https://api.spotify.com/v1/audio-analysis/7KBf...       155550   \n",
       "1  https://api.spotify.com/v1/audio-analysis/2PSs...       209013   \n",
       "2  https://api.spotify.com/v1/audio-analysis/1OtZ...       154027   \n",
       "3  https://api.spotify.com/v1/audio-analysis/6Q4f...       162053   \n",
       "4  https://api.spotify.com/v1/audio-analysis/3DMn...       164049   \n",
       "\n",
       "   time_signature  \n",
       "0               4  \n",
       "1               4  \n",
       "2               4  \n",
       "3               4  \n",
       "4               4  "
      ]
     },
     "execution_count": 65,
     "metadata": {},
     "output_type": "execute_result"
    }
   ],
   "source": [
    "audio_df = pd.DataFrame(audio['audio_features'])\n",
    "audio_df.head()"
   ]
  },
  {
   "cell_type": "markdown",
   "id": "fb777e82",
   "metadata": {},
   "source": [
    "Due to the large amount of categories, I decided to create a summary of this table using only the most important ones: danceability, tempo, and ID. I decided to leave tempo on the table simply because Spotify API mentioned that they analyse the tempo of the song, along with other features, in order to define the danceability.\n",
    "\n",
    "Both summaries I created, one for the playlist and one for the audio features, have the ID in them because there has to be a category in common to merge them together later on, so it can be easier to understand the acquired information."
   ]
  },
  {
   "cell_type": "code",
   "execution_count": 66,
   "id": "ec1f70ef",
   "metadata": {},
   "outputs": [],
   "source": [
    "audio_summ = audio_df[['danceability','tempo','id']]"
   ]
  },
  {
   "cell_type": "code",
   "execution_count": 67,
   "id": "9d9955f7",
   "metadata": {},
   "outputs": [],
   "source": [
    "combined_df = pd.merge(playlist_summ,audio_summ, how = 'inner', on = 'id')"
   ]
  },
  {
   "cell_type": "markdown",
   "id": "72c6809a",
   "metadata": {},
   "source": [
    "For the table to be clearer, I decided to drop the ID column when displaying it. I decided to show only the top 15 and the last 15 ranks in danceability, as at this point the objective is looking at the highest and lowest danceability scores, as well as having a look at the danceability and tempo relation (which can be done with only 30 tracks). \n",
    "\n",
    "After merging the tables, it is already noticeable that many of the tracks have a high danceability. It becomes clearer that the lowest score is 0.566 which it more than half of the possible score. If we put this in the four possible quarters of the danceability range I mentioned before, we would see that they all fit as either \"average danceability\" or as \"very danceable.\""
   ]
  },
  {
   "cell_type": "code",
   "execution_count": 76,
   "id": "84067dd9",
   "metadata": {},
   "outputs": [
    {
     "data": {
      "text/html": [
       "<div>\n",
       "<style scoped>\n",
       "    .dataframe tbody tr th:only-of-type {\n",
       "        vertical-align: middle;\n",
       "    }\n",
       "\n",
       "    .dataframe tbody tr th {\n",
       "        vertical-align: top;\n",
       "    }\n",
       "\n",
       "    .dataframe thead th {\n",
       "        text-align: right;\n",
       "    }\n",
       "</style>\n",
       "<table border=\"1\" class=\"dataframe\">\n",
       "  <thead>\n",
       "    <tr style=\"text-align: right;\">\n",
       "      <th></th>\n",
       "      <th>name</th>\n",
       "      <th>danceability</th>\n",
       "      <th>tempo</th>\n",
       "    </tr>\n",
       "  </thead>\n",
       "  <tbody>\n",
       "    <tr>\n",
       "      <th>15</th>\n",
       "      <td>Um Morto Muito Louco</td>\n",
       "      <td>0.975</td>\n",
       "      <td>128.040</td>\n",
       "    </tr>\n",
       "    <tr>\n",
       "      <th>24</th>\n",
       "      <td>Dança da Motinha</td>\n",
       "      <td>0.973</td>\n",
       "      <td>126.973</td>\n",
       "    </tr>\n",
       "    <tr>\n",
       "      <th>35</th>\n",
       "      <td>Bumbum Granada</td>\n",
       "      <td>0.965</td>\n",
       "      <td>130.015</td>\n",
       "    </tr>\n",
       "    <tr>\n",
       "      <th>4</th>\n",
       "      <td>Vou Passar Cerol Na Mào</td>\n",
       "      <td>0.959</td>\n",
       "      <td>126.873</td>\n",
       "    </tr>\n",
       "    <tr>\n",
       "      <th>16</th>\n",
       "      <td>Fica Caladinha</td>\n",
       "      <td>0.959</td>\n",
       "      <td>129.961</td>\n",
       "    </tr>\n",
       "    <tr>\n",
       "      <th>0</th>\n",
       "      <td>Bum Bum Tam Tam</td>\n",
       "      <td>0.957</td>\n",
       "      <td>132.010</td>\n",
       "    </tr>\n",
       "    <tr>\n",
       "      <th>36</th>\n",
       "      <td>Eu se quero ser feliz</td>\n",
       "      <td>0.954</td>\n",
       "      <td>129.030</td>\n",
       "    </tr>\n",
       "    <tr>\n",
       "      <th>18</th>\n",
       "      <td>Cerol na Mão</td>\n",
       "      <td>0.954</td>\n",
       "      <td>126.913</td>\n",
       "    </tr>\n",
       "    <tr>\n",
       "      <th>19</th>\n",
       "      <td>Sequencia do Pente</td>\n",
       "      <td>0.947</td>\n",
       "      <td>130.093</td>\n",
       "    </tr>\n",
       "    <tr>\n",
       "      <th>34</th>\n",
       "      <td>Já É Sensação</td>\n",
       "      <td>0.941</td>\n",
       "      <td>134.989</td>\n",
       "    </tr>\n",
       "    <tr>\n",
       "      <th>22</th>\n",
       "      <td>Tumbalatum</td>\n",
       "      <td>0.940</td>\n",
       "      <td>129.949</td>\n",
       "    </tr>\n",
       "    <tr>\n",
       "      <th>89</th>\n",
       "      <td>Ostentação Fora do Normal</td>\n",
       "      <td>0.938</td>\n",
       "      <td>130.097</td>\n",
       "    </tr>\n",
       "    <tr>\n",
       "      <th>95</th>\n",
       "      <td>Bem Devagarinho</td>\n",
       "      <td>0.938</td>\n",
       "      <td>130.221</td>\n",
       "    </tr>\n",
       "    <tr>\n",
       "      <th>45</th>\n",
       "      <td>Som de preto</td>\n",
       "      <td>0.937</td>\n",
       "      <td>131.031</td>\n",
       "    </tr>\n",
       "    <tr>\n",
       "      <th>26</th>\n",
       "      <td>Que Grave É Esse</td>\n",
       "      <td>0.932</td>\n",
       "      <td>129.899</td>\n",
       "    </tr>\n",
       "  </tbody>\n",
       "</table>\n",
       "</div>"
      ],
      "text/plain": [
       "                         name  danceability    tempo\n",
       "15       Um Morto Muito Louco         0.975  128.040\n",
       "24           Dança da Motinha         0.973  126.973\n",
       "35             Bumbum Granada         0.965  130.015\n",
       "4     Vou Passar Cerol Na Mào         0.959  126.873\n",
       "16             Fica Caladinha         0.959  129.961\n",
       "0             Bum Bum Tam Tam         0.957  132.010\n",
       "36      Eu se quero ser feliz         0.954  129.030\n",
       "18               Cerol na Mão         0.954  126.913\n",
       "19         Sequencia do Pente         0.947  130.093\n",
       "34              Já É Sensação         0.941  134.989\n",
       "22                 Tumbalatum         0.940  129.949\n",
       "89  Ostentação Fora do Normal         0.938  130.097\n",
       "95            Bem Devagarinho         0.938  130.221\n",
       "45               Som de preto         0.937  131.031\n",
       "26           Que Grave É Esse         0.932  129.899"
      ]
     },
     "execution_count": 76,
     "metadata": {},
     "output_type": "execute_result"
    }
   ],
   "source": [
    "combined_df.sort_values('danceability',ascending=False).drop(columns='id').head(15)"
   ]
  },
  {
   "cell_type": "code",
   "execution_count": 77,
   "id": "23c7756f",
   "metadata": {},
   "outputs": [
    {
     "data": {
      "text/html": [
       "<div>\n",
       "<style scoped>\n",
       "    .dataframe tbody tr th:only-of-type {\n",
       "        vertical-align: middle;\n",
       "    }\n",
       "\n",
       "    .dataframe tbody tr th {\n",
       "        vertical-align: top;\n",
       "    }\n",
       "\n",
       "    .dataframe thead th {\n",
       "        text-align: right;\n",
       "    }\n",
       "</style>\n",
       "<table border=\"1\" class=\"dataframe\">\n",
       "  <thead>\n",
       "    <tr style=\"text-align: right;\">\n",
       "      <th></th>\n",
       "      <th>name</th>\n",
       "      <th>danceability</th>\n",
       "      <th>tempo</th>\n",
       "    </tr>\n",
       "  </thead>\n",
       "  <tbody>\n",
       "    <tr>\n",
       "      <th>79</th>\n",
       "      <td>Aproveita Que a Mamadeira Ta Cheia</td>\n",
       "      <td>0.683</td>\n",
       "      <td>129.753</td>\n",
       "    </tr>\n",
       "    <tr>\n",
       "      <th>98</th>\n",
       "      <td>Veracruz</td>\n",
       "      <td>0.677</td>\n",
       "      <td>76.320</td>\n",
       "    </tr>\n",
       "    <tr>\n",
       "      <th>62</th>\n",
       "      <td>Segue O Fluxo - Live</td>\n",
       "      <td>0.674</td>\n",
       "      <td>130.057</td>\n",
       "    </tr>\n",
       "    <tr>\n",
       "      <th>85</th>\n",
       "      <td>Cheguei no Pistão</td>\n",
       "      <td>0.657</td>\n",
       "      <td>84.016</td>\n",
       "    </tr>\n",
       "    <tr>\n",
       "      <th>32</th>\n",
       "      <td>Gata Demais</td>\n",
       "      <td>0.652</td>\n",
       "      <td>129.488</td>\n",
       "    </tr>\n",
       "    <tr>\n",
       "      <th>37</th>\n",
       "      <td>Vou Desafiar Você</td>\n",
       "      <td>0.644</td>\n",
       "      <td>132.028</td>\n",
       "    </tr>\n",
       "    <tr>\n",
       "      <th>21</th>\n",
       "      <td>Angra dos Reis</td>\n",
       "      <td>0.641</td>\n",
       "      <td>86.611</td>\n",
       "    </tr>\n",
       "    <tr>\n",
       "      <th>44</th>\n",
       "      <td>Amor de Verdade</td>\n",
       "      <td>0.638</td>\n",
       "      <td>120.235</td>\n",
       "    </tr>\n",
       "    <tr>\n",
       "      <th>71</th>\n",
       "      <td>Tá Tranquilo, Tá Favorável</td>\n",
       "      <td>0.621</td>\n",
       "      <td>172.397</td>\n",
       "    </tr>\n",
       "    <tr>\n",
       "      <th>96</th>\n",
       "      <td>As Mina do Kit</td>\n",
       "      <td>0.616</td>\n",
       "      <td>80.772</td>\n",
       "    </tr>\n",
       "    <tr>\n",
       "      <th>54</th>\n",
       "      <td>Na Vara</td>\n",
       "      <td>0.607</td>\n",
       "      <td>130.109</td>\n",
       "    </tr>\n",
       "    <tr>\n",
       "      <th>14</th>\n",
       "      <td>Oh Nanana</td>\n",
       "      <td>0.606</td>\n",
       "      <td>172.335</td>\n",
       "    </tr>\n",
       "    <tr>\n",
       "      <th>23</th>\n",
       "      <td>Cara Bacana</td>\n",
       "      <td>0.599</td>\n",
       "      <td>87.838</td>\n",
       "    </tr>\n",
       "    <tr>\n",
       "      <th>61</th>\n",
       "      <td>Cheia de Marra</td>\n",
       "      <td>0.588</td>\n",
       "      <td>71.850</td>\n",
       "    </tr>\n",
       "    <tr>\n",
       "      <th>97</th>\n",
       "      <td>Teoria da Branca de Neve</td>\n",
       "      <td>0.566</td>\n",
       "      <td>86.606</td>\n",
       "    </tr>\n",
       "  </tbody>\n",
       "</table>\n",
       "</div>"
      ],
      "text/plain": [
       "                                  name  danceability    tempo\n",
       "79  Aproveita Que a Mamadeira Ta Cheia         0.683  129.753\n",
       "98                            Veracruz         0.677   76.320\n",
       "62                Segue O Fluxo - Live         0.674  130.057\n",
       "85                   Cheguei no Pistão         0.657   84.016\n",
       "32                         Gata Demais         0.652  129.488\n",
       "37                   Vou Desafiar Você         0.644  132.028\n",
       "21                      Angra dos Reis         0.641   86.611\n",
       "44                     Amor de Verdade         0.638  120.235\n",
       "71          Tá Tranquilo, Tá Favorável         0.621  172.397\n",
       "96                      As Mina do Kit         0.616   80.772\n",
       "54                             Na Vara         0.607  130.109\n",
       "14                           Oh Nanana         0.606  172.335\n",
       "23                         Cara Bacana         0.599   87.838\n",
       "61                      Cheia de Marra         0.588   71.850\n",
       "97            Teoria da Branca de Neve         0.566   86.606"
      ]
     },
     "execution_count": 77,
     "metadata": {},
     "output_type": "execute_result"
    }
   ],
   "source": [
    "combined_df.sort_values('danceability',ascending=False).drop(columns='id').tail(15)"
   ]
  },
  {
   "cell_type": "markdown",
   "id": "5153de01",
   "metadata": {},
   "source": [
    "To discover the average value of danceability of the 100 tracks, I calculated the mean. With this result, we can clearly see that the mean is high when looking at the danceability range."
   ]
  },
  {
   "cell_type": "code",
   "execution_count": 78,
   "id": "2ac0e011",
   "metadata": {},
   "outputs": [
    {
     "data": {
      "text/plain": [
       "0.8218300000000002"
      ]
     },
     "execution_count": 78,
     "metadata": {},
     "output_type": "execute_result"
    }
   ],
   "source": [
    "combined_df[\"danceability\"].mean()"
   ]
  },
  {
   "cell_type": "markdown",
   "id": "4248514d",
   "metadata": {},
   "source": [
    "And because Spotify says that the tempo of a song impacts on the danceability, I got the mean of the tracks' tempo as well. However, after looking at the table, some of the tracks have high tempo and a lower danceability, which could be understandable as tempo is only one of the factors related to danceability. "
   ]
  },
  {
   "cell_type": "code",
   "execution_count": 79,
   "id": "616edc08",
   "metadata": {},
   "outputs": [
    {
     "data": {
      "text/plain": [
       "124.02296"
      ]
     },
     "execution_count": 79,
     "metadata": {},
     "output_type": "execute_result"
    }
   ],
   "source": [
    "combined_df[\"tempo\"].mean()"
   ]
  },
  {
   "cell_type": "markdown",
   "id": "ba79a12f",
   "metadata": {},
   "source": [
    "## Conclusion\n",
    "\n",
    "With this analysis, I was able to prove that my hypothesis of Brazilian Funk having a high danceability was correct. The danceability mean (0.82) was inside the range I expected it to be, which was 0.75 and 0.9. Not only that, but some of the tracks have a danceability higher than what I was expecting, reaching 0.975, almost hitting the maximum value. Plus, as stated before, the lowest danceability was higher than half of the possible score.\n",
    "\n",
    "As mentioned previously, the tempo does not seem to be directly related to the danceability value, so it does not mean that if the tempo is high that the danceability will be also high, even though Spotify says the tempo goes into consideration when determining a track's danceability. It is also possible to conclude that by looking at the mean tempo (124 BPM), as it is actually around the average BPM for songs in general. Hence, if tempo was directly connected to a songs danceability, many songs with an average to high BPM would be considered danceable, but as we can see with the song \"Oh Nanana,\" a high BPM (172.3) does not equal to a high danceability (0.6). \n",
    "\n",
    "The limitation of this analysis is that I was not able to get the whole playlist, as well as, even if I had been able, it would not be the entirety of Funk. However, as I mentioned before, it would be a good sample as it would have 415 song to look into. Also, considering that these are the most listened in parties, it would provide a sample that gets the big picture of what Brazilians normally enjoy regarding danceability of songs - as Brazilians generally love to dance to Funk in parties. In addition to the limitations, enters the fact that the danceability of a song is subjective to the person that is listening to the song. \n",
    "\n",
    "In a future analysis, to further dive into the results of this hypothesis, it would be interesting to compare these results with another danceable song genre (for example, KPOP is known for its dances, or Samba that is also a Brazilian music genre that people dance to) in order to get a better idea on how danceable Brazilian Funk actually is. This would be a good inclusion to the analysis as by comparing results it would be possible to determine if other danceable music genres surpass Funk's danceability. Another way to improve this report would be inserting a graph to put the table's information in a way that the results can be easily read and understood. It was my intent to do it for this version, however, I was not able to do it as I did not have the right package to do so - which can also be considered a limitation."
   ]
  }
 ],
 "metadata": {
  "kernelspec": {
   "display_name": "Python 3 (ipykernel)",
   "language": "python",
   "name": "python3"
  },
  "language_info": {
   "codemirror_mode": {
    "name": "ipython",
    "version": 3
   },
   "file_extension": ".py",
   "mimetype": "text/x-python",
   "name": "python",
   "nbconvert_exporter": "python",
   "pygments_lexer": "ipython3",
   "version": "3.11.4"
  }
 },
 "nbformat": 4,
 "nbformat_minor": 5
}
